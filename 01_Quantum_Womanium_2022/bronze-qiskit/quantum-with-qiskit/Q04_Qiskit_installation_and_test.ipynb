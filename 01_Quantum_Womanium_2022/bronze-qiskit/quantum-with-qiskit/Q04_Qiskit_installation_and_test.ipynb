{
 "cells": [
  {
   "cell_type": "markdown",
   "metadata": {},
   "source": [
    "<a href=\"https://qworld.net\" target=\"_blank\" align=\"left\"><img src=\"../qworld/images/header.jpg\"  align=\"left\"></a>\n",
    "$ \\newcommand{\\bra}[1]{\\langle #1|} $\n",
    "$ \\newcommand{\\ket}[1]{|#1\\rangle} $\n",
    "$ \\newcommand{\\braket}[2]{\\langle #1|#2\\rangle} $\n",
    "$ \\newcommand{\\dot}[2]{ #1 \\cdot #2} $\n",
    "$ \\newcommand{\\biginner}[2]{\\left\\langle #1,#2\\right\\rangle} $\n",
    "$ \\newcommand{\\mymatrix}[2]{\\left( \\begin{array}{#1} #2\\end{array} \\right)} $\n",
    "$ \\newcommand{\\myvector}[1]{\\mymatrix{c}{#1}} $\n",
    "$ \\newcommand{\\myrvector}[1]{\\mymatrix{r}{#1}} $\n",
    "$ \\newcommand{\\mypar}[1]{\\left( #1 \\right)} $\n",
    "$ \\newcommand{\\mybigpar}[1]{ \\Big( #1 \\Big)} $\n",
    "$ \\newcommand{\\sqrttwo}{\\frac{1}{\\sqrt{2}}} $\n",
    "$ \\newcommand{\\dsqrttwo}{\\dfrac{1}{\\sqrt{2}}} $\n",
    "$ \\newcommand{\\onehalf}{\\frac{1}{2}} $\n",
    "$ \\newcommand{\\donehalf}{\\dfrac{1}{2}} $\n",
    "$ \\newcommand{\\hadamard}{ \\mymatrix{rr}{ \\sqrttwo & \\sqrttwo \\\\ \\sqrttwo & -\\sqrttwo }} $\n",
    "$ \\newcommand{\\vzero}{\\myvector{1\\\\0}} $\n",
    "$ \\newcommand{\\vone}{\\myvector{0\\\\1}} $\n",
    "$ \\newcommand{\\stateplus}{\\myvector{ \\sqrttwo \\\\  \\sqrttwo } } $\n",
    "$ \\newcommand{\\stateminus}{ \\myrvector{ \\sqrttwo \\\\ -\\sqrttwo } } $\n",
    "$ \\newcommand{\\myarray}[2]{ \\begin{array}{#1}#2\\end{array}} $\n",
    "$ \\newcommand{\\X}{ \\mymatrix{cc}{0 & 1 \\\\ 1 & 0}  } $\n",
    "$ \\newcommand{\\I}{ \\mymatrix{rr}{1 & 0 \\\\ 0 & 1}  } $\n",
    "$ \\newcommand{\\Z}{ \\mymatrix{rr}{1 & 0 \\\\ 0 & -1}  } $\n",
    "$ \\newcommand{\\Htwo}{ \\mymatrix{rrrr}{ \\frac{1}{2} & \\frac{1}{2} & \\frac{1}{2} & \\frac{1}{2} \\\\ \\frac{1}{2} & -\\frac{1}{2} & \\frac{1}{2} & -\\frac{1}{2} \\\\ \\frac{1}{2} & \\frac{1}{2} & -\\frac{1}{2} & -\\frac{1}{2} \\\\ \\frac{1}{2} & -\\frac{1}{2} & -\\frac{1}{2} & \\frac{1}{2} } } $\n",
    "$ \\newcommand{\\CNOT}{ \\mymatrix{cccc}{1 & 0 & 0 & 0 \\\\ 0 & 1 & 0 & 0 \\\\ 0 & 0 & 0 & 1 \\\\ 0 & 0 & 1 & 0} } $\n",
    "$ \\newcommand{\\norm}[1]{ \\left\\lVert #1 \\right\\rVert } $\n",
    "$ \\newcommand{\\pstate}[1]{ \\lceil \\mspace{-1mu} #1 \\mspace{-1.5mu} \\rfloor } $\n",
    "$ \\newcommand{\\greenbit}[1] {\\mathbf{{\\color{green}#1}}} $\n",
    "$ \\newcommand{\\bluebit}[1] {\\mathbf{{\\color{blue}#1}}} $\n",
    "$ \\newcommand{\\redbit}[1] {\\mathbf{{\\color{red}#1}}} $\n",
    "$ \\newcommand{\\brownbit}[1] {\\mathbf{{\\color{brown}#1}}} $\n",
    "$ \\newcommand{\\blackbit}[1] {\\mathbf{{\\color{black}#1}}} $"
   ]
  },
  {
   "cell_type": "markdown",
   "metadata": {},
   "source": [
    "<font style=\"font-size:28px;\" align=\"left\"><b> Qiskit installation and test </b></font>\n",
    "<br>\n",
    "_prepared by Abuzer Yakaryilmaz_\n",
    "<br><br>"
   ]
  },
  {
   "cell_type": "markdown",
   "metadata": {},
   "source": [
    "- [Check your system](#check)\n",
    "- [Install qiskit](#install)\n",
    "- [Tips](#tips)\n",
    "- [Execute an example quantum program](#test)\n",
    "- [Complete test](#complete)"
   ]
  },
  {
   "cell_type": "markdown",
   "metadata": {},
   "source": [
    "<hr id=\"check\">\n",
    "\n",
    "### Check your system\n",
    "\n",
    "Check your system, if Qiskit has already been installed:"
   ]
  },
  {
   "cell_type": "code",
   "execution_count": 1,
   "metadata": {},
   "outputs": [
    {
     "ename": "ModuleNotFoundError",
     "evalue": "No module named 'qiskit'",
     "output_type": "error",
     "traceback": [
      "\u001b[1;31m---------------------------------------------------------------------------\u001b[0m",
      "\u001b[1;31mModuleNotFoundError\u001b[0m                       Traceback (most recent call last)",
      "Input \u001b[1;32mIn [1]\u001b[0m, in \u001b[0;36m<cell line: 1>\u001b[1;34m()\u001b[0m\n\u001b[1;32m----> 1\u001b[0m \u001b[38;5;28;01mimport\u001b[39;00m \u001b[38;5;21;01mqiskit\u001b[39;00m\n\u001b[0;32m      2\u001b[0m versions \u001b[38;5;241m=\u001b[39m qiskit\u001b[38;5;241m.\u001b[39m__qiskit_version__\n\u001b[0;32m      3\u001b[0m \u001b[38;5;28mprint\u001b[39m(\u001b[38;5;124m\"\u001b[39m\u001b[38;5;124mThe version of Qiskit is\u001b[39m\u001b[38;5;124m\"\u001b[39m,versions[\u001b[38;5;124m'\u001b[39m\u001b[38;5;124mqiskit\u001b[39m\u001b[38;5;124m'\u001b[39m])\n",
      "\u001b[1;31mModuleNotFoundError\u001b[0m: No module named 'qiskit'"
     ]
    }
   ],
   "source": [
    "import qiskit\n",
    "versions = qiskit.__qiskit_version__\n",
    "print(\"The version of Qiskit is\",versions['qiskit'])\n",
    "print()\n",
    "print(\"The version of each component:\")\n",
    "for key in versions:\n",
    "    print(key,\"->\",versions[key])"
   ]
  },
  {
   "cell_type": "markdown",
   "metadata": {},
   "source": [
    "**You should be able to see the version number of any library that is already installed in your system.**"
   ]
  },
  {
   "cell_type": "markdown",
   "metadata": {},
   "source": [
    "<hr id=\"install\">\n",
    "\n",
    "### Install qiskit\n",
    "\n",
    "(If you are an experienced user, visit this link: https://qiskit.org/documentation/install.html)\n",
    "\n",
    "You can install Qiskit by executing the following cell:"
   ]
  },
  {
   "cell_type": "code",
   "execution_count": 2,
   "metadata": {},
   "outputs": [
    {
     "name": "stdout",
     "output_type": "stream",
     "text": [
      "Collecting qiskit[visualization]\n",
      "  Downloading qiskit-0.37.0.tar.gz (13 kB)\n",
      "Collecting qiskit-terra==0.21.0\n",
      "  Downloading qiskit_terra-0.21.0-cp39-cp39-win_amd64.whl (6.3 MB)\n",
      "Collecting qiskit-aer==0.10.4\n",
      "  Downloading qiskit_aer-0.10.4-cp39-cp39-win_amd64.whl (24.2 MB)\n",
      "Collecting qiskit-ibmq-provider==0.19.2\n",
      "  Downloading qiskit_ibmq_provider-0.19.2-py3-none-any.whl (240 kB)\n",
      "Collecting matplotlib>=2.1\n",
      "  Using cached matplotlib-3.5.2-cp39-cp39-win_amd64.whl (7.2 MB)\n",
      "Collecting ipywidgets>=7.3.0\n",
      "  Using cached ipywidgets-7.7.1-py2.py3-none-any.whl (123 kB)\n",
      "Collecting pydot\n",
      "  Downloading pydot-1.4.2-py2.py3-none-any.whl (21 kB)\n",
      "Requirement already satisfied: pillow>=4.2.1 in c:\\users\\lindb\\anaconda3\\lib\\site-packages (from qiskit[visualization]) (9.0.1)\n",
      "Collecting pylatexenc>=1.4\n",
      "  Downloading pylatexenc-2.10.tar.gz (162 kB)\n",
      "Collecting seaborn>=0.9.0\n",
      "  Using cached seaborn-0.11.2-py3-none-any.whl (292 kB)\n",
      "Requirement already satisfied: pygments>=2.4 in c:\\users\\lindb\\anaconda3\\lib\\site-packages (from qiskit[visualization]) (2.11.2)\n",
      "Collecting scipy>=1.0\n",
      "  Downloading scipy-1.8.1-cp39-cp39-win_amd64.whl (36.9 MB)\n",
      "Requirement already satisfied: numpy>=1.16.3 in c:\\users\\lindb\\anaconda3\\lib\\site-packages (from qiskit-aer==0.10.4->qiskit[visualization]) (1.23.0)\n",
      "Collecting requests-ntlm>=1.1.0\n",
      "  Downloading requests_ntlm-1.1.0-py2.py3-none-any.whl (5.7 kB)\n",
      "Collecting websockets>=10.0\n",
      "  Downloading websockets-10.3-cp39-cp39-win_amd64.whl (98 kB)\n"
     ]
    },
    {
     "name": "stderr",
     "output_type": "stream",
     "text": [
      "  WARNING: The script pbr.exe is installed in 'C:\\Users\\lindb\\AppData\\Roaming\\Python\\Python39\\Scripts' which is not on PATH.\n",
      "  Consider adding this directory to PATH or, if you prefer to suppress this warning, use --no-warn-script-location.\n",
      "  WARNING: The script isympy.exe is installed in 'C:\\Users\\lindb\\AppData\\Roaming\\Python\\Python39\\Scripts' which is not on PATH.\n",
      "  Consider adding this directory to PATH or, if you prefer to suppress this warning, use --no-warn-script-location.\n",
      "  WARNING: The script wsdump.exe is installed in 'C:\\Users\\lindb\\AppData\\Roaming\\Python\\Python39\\Scripts' which is not on PATH.\n",
      "  Consider adding this directory to PATH or, if you prefer to suppress this warning, use --no-warn-script-location.\n",
      "  WARNING: The scripts fonttools.exe, pyftmerge.exe, pyftsubset.exe and ttx.exe are installed in 'C:\\Users\\lindb\\AppData\\Roaming\\Python\\Python39\\Scripts' which is not on PATH.\n",
      "  Consider adding this directory to PATH or, if you prefer to suppress this warning, use --no-warn-script-location.\n",
      "  WARNING: The scripts latex2text.exe, latexencode.exe and latexwalker.exe are installed in 'C:\\Users\\lindb\\AppData\\Roaming\\Python\\Python39\\Scripts' which is not on PATH.\n",
      "  Consider adding this directory to PATH or, if you prefer to suppress this warning, use --no-warn-script-location.\n"
     ]
    },
    {
     "name": "stdout",
     "output_type": "stream",
     "text": [
      "Collecting websocket-client>=1.0.1\n",
      "  Downloading websocket_client-1.3.3-py3-none-any.whl (54 kB)\n",
      "Requirement already satisfied: python-dateutil>=2.8.0 in c:\\users\\lindb\\anaconda3\\lib\\site-packages (from qiskit-ibmq-provider==0.19.2->qiskit[visualization]) (2.8.2)\n",
      "Requirement already satisfied: urllib3>=1.21.1 in c:\\users\\lindb\\anaconda3\\lib\\site-packages (from qiskit-ibmq-provider==0.19.2->qiskit[visualization]) (1.26.9)\n",
      "Requirement already satisfied: requests>=2.19 in c:\\users\\lindb\\anaconda3\\lib\\site-packages (from qiskit-ibmq-provider==0.19.2->qiskit[visualization]) (2.27.1)\n",
      "Requirement already satisfied: psutil>=5 in c:\\users\\lindb\\anaconda3\\lib\\site-packages (from qiskit-terra==0.21.0->qiskit[visualization]) (5.8.0)\n",
      "Collecting ply>=3.10\n",
      "  Downloading ply-3.11-py2.py3-none-any.whl (49 kB)\n",
      "Collecting retworkx>=0.11.0\n",
      "  Downloading retworkx-0.11.0-cp39-cp39-win_amd64.whl (1.2 MB)\n",
      "Collecting sympy>=1.3\n",
      "  Downloading sympy-1.10.1-py3-none-any.whl (6.4 MB)\n",
      "Collecting stevedore>=3.0.0\n",
      "  Downloading stevedore-4.0.0-py3-none-any.whl (49 kB)\n",
      "Collecting dill>=0.3\n",
      "  Downloading dill-0.3.5.1-py2.py3-none-any.whl (95 kB)\n",
      "Collecting tweedledum<2.0,>=1.1\n",
      "  Downloading tweedledum-1.1.1-cp39-cp39-win_amd64.whl (1.1 MB)\n",
      "Requirement already satisfied: ipython>=4.0.0 in c:\\users\\lindb\\anaconda3\\lib\\site-packages (from ipywidgets>=7.3.0->qiskit[visualization]) (8.3.0)\n",
      "Requirement already satisfied: ipykernel>=4.5.1 in c:\\users\\lindb\\anaconda3\\lib\\site-packages (from ipywidgets>=7.3.0->qiskit[visualization]) (6.9.1)\n",
      "Collecting jupyterlab-widgets>=1.0.0\n",
      "  Using cached jupyterlab_widgets-1.1.1-py3-none-any.whl (245 kB)\n",
      "Requirement already satisfied: traitlets>=4.3.1 in c:\\users\\lindb\\anaconda3\\lib\\site-packages (from ipywidgets>=7.3.0->qiskit[visualization]) (5.1.1)\n",
      "Collecting widgetsnbextension~=3.6.0\n",
      "  Using cached widgetsnbextension-3.6.1-py2.py3-none-any.whl (1.6 MB)\n",
      "Requirement already satisfied: ipython-genutils~=0.2.0 in c:\\users\\lindb\\anaconda3\\lib\\site-packages (from ipywidgets>=7.3.0->qiskit[visualization]) (0.2.0)\n",
      "Requirement already satisfied: tornado<7.0,>=4.2 in c:\\users\\lindb\\anaconda3\\lib\\site-packages (from ipykernel>=4.5.1->ipywidgets>=7.3.0->qiskit[visualization]) (6.1)\n",
      "Requirement already satisfied: debugpy<2.0,>=1.0.0 in c:\\users\\lindb\\anaconda3\\lib\\site-packages (from ipykernel>=4.5.1->ipywidgets>=7.3.0->qiskit[visualization]) (1.5.1)\n",
      "Requirement already satisfied: matplotlib-inline<0.2.0,>=0.1.0 in c:\\users\\lindb\\anaconda3\\lib\\site-packages (from ipykernel>=4.5.1->ipywidgets>=7.3.0->qiskit[visualization]) (0.1.2)\n",
      "Requirement already satisfied: nest-asyncio in c:\\users\\lindb\\anaconda3\\lib\\site-packages (from ipykernel>=4.5.1->ipywidgets>=7.3.0->qiskit[visualization]) (1.5.5)\n",
      "Requirement already satisfied: jupyter-client<8.0 in c:\\users\\lindb\\anaconda3\\lib\\site-packages (from ipykernel>=4.5.1->ipywidgets>=7.3.0->qiskit[visualization]) (7.2.2)\n",
      "Requirement already satisfied: backcall in c:\\users\\lindb\\anaconda3\\lib\\site-packages (from ipython>=4.0.0->ipywidgets>=7.3.0->qiskit[visualization]) (0.2.0)\n",
      "Requirement already satisfied: jedi>=0.16 in c:\\users\\lindb\\anaconda3\\lib\\site-packages (from ipython>=4.0.0->ipywidgets>=7.3.0->qiskit[visualization]) (0.18.1)\n",
      "Requirement already satisfied: setuptools>=18.5 in c:\\users\\lindb\\anaconda3\\lib\\site-packages (from ipython>=4.0.0->ipywidgets>=7.3.0->qiskit[visualization]) (61.2.0)\n",
      "Requirement already satisfied: decorator in c:\\users\\lindb\\anaconda3\\lib\\site-packages (from ipython>=4.0.0->ipywidgets>=7.3.0->qiskit[visualization]) (5.1.1)\n",
      "Requirement already satisfied: pickleshare in c:\\users\\lindb\\anaconda3\\lib\\site-packages (from ipython>=4.0.0->ipywidgets>=7.3.0->qiskit[visualization]) (0.7.5)\n",
      "Requirement already satisfied: stack-data in c:\\users\\lindb\\anaconda3\\lib\\site-packages (from ipython>=4.0.0->ipywidgets>=7.3.0->qiskit[visualization]) (0.2.0)\n",
      "Requirement already satisfied: colorama in c:\\users\\lindb\\anaconda3\\lib\\site-packages (from ipython>=4.0.0->ipywidgets>=7.3.0->qiskit[visualization]) (0.4.4)\n",
      "Requirement already satisfied: prompt-toolkit!=3.0.0,!=3.0.1,<3.1.0,>=2.0.0 in c:\\users\\lindb\\anaconda3\\lib\\site-packages (from ipython>=4.0.0->ipywidgets>=7.3.0->qiskit[visualization]) (3.0.20)\n",
      "Requirement already satisfied: parso<0.9.0,>=0.8.0 in c:\\users\\lindb\\anaconda3\\lib\\site-packages (from jedi>=0.16->ipython>=4.0.0->ipywidgets>=7.3.0->qiskit[visualization]) (0.8.3)\n",
      "Requirement already satisfied: entrypoints in c:\\users\\lindb\\anaconda3\\lib\\site-packages (from jupyter-client<8.0->ipykernel>=4.5.1->ipywidgets>=7.3.0->qiskit[visualization]) (0.4)\n",
      "Requirement already satisfied: jupyter-core>=4.9.2 in c:\\users\\lindb\\anaconda3\\lib\\site-packages (from jupyter-client<8.0->ipykernel>=4.5.1->ipywidgets>=7.3.0->qiskit[visualization]) (4.10.0)\n",
      "Requirement already satisfied: pyzmq>=22.3 in c:\\users\\lindb\\anaconda3\\lib\\site-packages (from jupyter-client<8.0->ipykernel>=4.5.1->ipywidgets>=7.3.0->qiskit[visualization]) (22.3.0)\n",
      "Requirement already satisfied: pywin32>=1.0 in c:\\users\\lindb\\anaconda3\\lib\\site-packages (from jupyter-core>=4.9.2->jupyter-client<8.0->ipykernel>=4.5.1->ipywidgets>=7.3.0->qiskit[visualization]) (302)\n",
      "Collecting cycler>=0.10\n",
      "  Using cached cycler-0.11.0-py3-none-any.whl (6.4 kB)\n",
      "Collecting fonttools>=4.22.0\n",
      "  Using cached fonttools-4.34.4-py3-none-any.whl (944 kB)\n",
      "Collecting kiwisolver>=1.0.1\n",
      "  Using cached kiwisolver-1.4.3-cp39-cp39-win_amd64.whl (55 kB)\n",
      "Requirement already satisfied: packaging>=20.0 in c:\\users\\lindb\\anaconda3\\lib\\site-packages (from matplotlib>=2.1->qiskit[visualization]) (21.3)\n",
      "Requirement already satisfied: pyparsing>=2.2.1 in c:\\users\\lindb\\anaconda3\\lib\\site-packages (from matplotlib>=2.1->qiskit[visualization]) (3.0.4)\n",
      "Requirement already satisfied: wcwidth in c:\\users\\lindb\\anaconda3\\lib\\site-packages (from prompt-toolkit!=3.0.0,!=3.0.1,<3.1.0,>=2.0.0->ipython>=4.0.0->ipywidgets>=7.3.0->qiskit[visualization]) (0.2.5)\n",
      "Requirement already satisfied: six>=1.5 in c:\\users\\lindb\\anaconda3\\lib\\site-packages (from python-dateutil>=2.8.0->qiskit-ibmq-provider==0.19.2->qiskit[visualization]) (1.16.0)\n",
      "Requirement already satisfied: certifi>=2017.4.17 in c:\\users\\lindb\\anaconda3\\lib\\site-packages (from requests>=2.19->qiskit-ibmq-provider==0.19.2->qiskit[visualization]) (2022.5.18.1)\n",
      "Requirement already satisfied: idna<4,>=2.5 in c:\\users\\lindb\\anaconda3\\lib\\site-packages (from requests>=2.19->qiskit-ibmq-provider==0.19.2->qiskit[visualization]) (3.3)\n",
      "Requirement already satisfied: charset-normalizer~=2.0.0 in c:\\users\\lindb\\anaconda3\\lib\\site-packages (from requests>=2.19->qiskit-ibmq-provider==0.19.2->qiskit[visualization]) (2.0.4)\n",
      "Collecting ntlm-auth>=1.0.2\n",
      "  Downloading ntlm_auth-1.5.0-py2.py3-none-any.whl (29 kB)\n",
      "Requirement already satisfied: cryptography>=1.3 in c:\\users\\lindb\\anaconda3\\lib\\site-packages (from requests-ntlm>=1.1.0->qiskit-ibmq-provider==0.19.2->qiskit[visualization]) (3.4.8)\n",
      "Requirement already satisfied: cffi>=1.12 in c:\\users\\lindb\\anaconda3\\lib\\site-packages (from cryptography>=1.3->requests-ntlm>=1.1.0->qiskit-ibmq-provider==0.19.2->qiskit[visualization]) (1.15.0)\n",
      "Requirement already satisfied: pycparser in c:\\users\\lindb\\anaconda3\\lib\\site-packages (from cffi>=1.12->cryptography>=1.3->requests-ntlm>=1.1.0->qiskit-ibmq-provider==0.19.2->qiskit[visualization]) (2.21)\n",
      "Requirement already satisfied: pandas>=0.23 in c:\\users\\lindb\\anaconda3\\lib\\site-packages (from seaborn>=0.9.0->qiskit[visualization]) (1.4.3)\n",
      "Requirement already satisfied: pytz>=2020.1 in c:\\users\\lindb\\anaconda3\\lib\\site-packages (from pandas>=0.23->seaborn>=0.9.0->qiskit[visualization]) (2021.3)\n",
      "Collecting pbr!=2.1.0,>=2.0.0\n",
      "  Downloading pbr-5.9.0-py2.py3-none-any.whl (112 kB)\n",
      "Collecting mpmath>=0.19\n",
      "  Downloading mpmath-1.2.1-py3-none-any.whl (532 kB)\n",
      "Requirement already satisfied: notebook>=4.4.1 in c:\\users\\lindb\\anaconda3\\lib\\site-packages (from widgetsnbextension~=3.6.0->ipywidgets>=7.3.0->qiskit[visualization]) (6.4.11)\n",
      "Requirement already satisfied: argon2-cffi in c:\\users\\lindb\\anaconda3\\lib\\site-packages (from notebook>=4.4.1->widgetsnbextension~=3.6.0->ipywidgets>=7.3.0->qiskit[visualization]) (21.3.0)\n",
      "Requirement already satisfied: nbconvert>=5 in c:\\users\\lindb\\anaconda3\\lib\\site-packages (from notebook>=4.4.1->widgetsnbextension~=3.6.0->ipywidgets>=7.3.0->qiskit[visualization]) (6.4.4)\n",
      "Requirement already satisfied: prometheus-client in c:\\users\\lindb\\anaconda3\\lib\\site-packages (from notebook>=4.4.1->widgetsnbextension~=3.6.0->ipywidgets>=7.3.0->qiskit[visualization]) (0.13.1)\n",
      "Requirement already satisfied: Send2Trash>=1.8.0 in c:\\users\\lindb\\anaconda3\\lib\\site-packages (from notebook>=4.4.1->widgetsnbextension~=3.6.0->ipywidgets>=7.3.0->qiskit[visualization]) (1.8.0)\n",
      "Requirement already satisfied: terminado>=0.8.3 in c:\\users\\lindb\\anaconda3\\lib\\site-packages (from notebook>=4.4.1->widgetsnbextension~=3.6.0->ipywidgets>=7.3.0->qiskit[visualization]) (0.13.1)\n",
      "Requirement already satisfied: jinja2 in c:\\users\\lindb\\anaconda3\\lib\\site-packages (from notebook>=4.4.1->widgetsnbextension~=3.6.0->ipywidgets>=7.3.0->qiskit[visualization]) (2.11.3)\n",
      "Requirement already satisfied: nbformat in c:\\users\\lindb\\anaconda3\\lib\\site-packages (from notebook>=4.4.1->widgetsnbextension~=3.6.0->ipywidgets>=7.3.0->qiskit[visualization]) (5.3.0)\n",
      "Requirement already satisfied: beautifulsoup4 in c:\\users\\lindb\\anaconda3\\lib\\site-packages (from nbconvert>=5->notebook>=4.4.1->widgetsnbextension~=3.6.0->ipywidgets>=7.3.0->qiskit[visualization]) (4.11.1)\n",
      "Requirement already satisfied: mistune<2,>=0.8.1 in c:\\users\\lindb\\anaconda3\\lib\\site-packages (from nbconvert>=5->notebook>=4.4.1->widgetsnbextension~=3.6.0->ipywidgets>=7.3.0->qiskit[visualization]) (0.8.4)\n",
      "Requirement already satisfied: pandocfilters>=1.4.1 in c:\\users\\lindb\\anaconda3\\lib\\site-packages (from nbconvert>=5->notebook>=4.4.1->widgetsnbextension~=3.6.0->ipywidgets>=7.3.0->qiskit[visualization]) (1.5.0)\n",
      "Requirement already satisfied: bleach in c:\\users\\lindb\\anaconda3\\lib\\site-packages (from nbconvert>=5->notebook>=4.4.1->widgetsnbextension~=3.6.0->ipywidgets>=7.3.0->qiskit[visualization]) (4.1.0)\n",
      "Requirement already satisfied: defusedxml in c:\\users\\lindb\\anaconda3\\lib\\site-packages (from nbconvert>=5->notebook>=4.4.1->widgetsnbextension~=3.6.0->ipywidgets>=7.3.0->qiskit[visualization]) (0.7.1)\n",
      "Requirement already satisfied: jupyterlab-pygments in c:\\users\\lindb\\anaconda3\\lib\\site-packages (from nbconvert>=5->notebook>=4.4.1->widgetsnbextension~=3.6.0->ipywidgets>=7.3.0->qiskit[visualization]) (0.1.2)\n",
      "Requirement already satisfied: nbclient<0.6.0,>=0.5.0 in c:\\users\\lindb\\anaconda3\\lib\\site-packages (from nbconvert>=5->notebook>=4.4.1->widgetsnbextension~=3.6.0->ipywidgets>=7.3.0->qiskit[visualization]) (0.5.13)\n",
      "Requirement already satisfied: testpath in c:\\users\\lindb\\anaconda3\\lib\\site-packages (from nbconvert>=5->notebook>=4.4.1->widgetsnbextension~=3.6.0->ipywidgets>=7.3.0->qiskit[visualization]) (0.5.0)\n",
      "Requirement already satisfied: MarkupSafe>=0.23 in c:\\users\\lindb\\anaconda3\\lib\\site-packages (from jinja2->notebook>=4.4.1->widgetsnbextension~=3.6.0->ipywidgets>=7.3.0->qiskit[visualization]) (2.0.1)\n",
      "Requirement already satisfied: jsonschema>=2.6 in c:\\users\\lindb\\anaconda3\\lib\\site-packages (from nbformat->notebook>=4.4.1->widgetsnbextension~=3.6.0->ipywidgets>=7.3.0->qiskit[visualization]) (4.4.0)\n",
      "Requirement already satisfied: fastjsonschema in c:\\users\\lindb\\anaconda3\\lib\\site-packages (from nbformat->notebook>=4.4.1->widgetsnbextension~=3.6.0->ipywidgets>=7.3.0->qiskit[visualization]) (2.15.1)\n",
      "Requirement already satisfied: attrs>=17.4.0 in c:\\users\\lindb\\anaconda3\\lib\\site-packages (from jsonschema>=2.6->nbformat->notebook>=4.4.1->widgetsnbextension~=3.6.0->ipywidgets>=7.3.0->qiskit[visualization]) (21.4.0)\n",
      "Requirement already satisfied: pyrsistent!=0.17.0,!=0.17.1,!=0.17.2,>=0.14.0 in c:\\users\\lindb\\anaconda3\\lib\\site-packages (from jsonschema>=2.6->nbformat->notebook>=4.4.1->widgetsnbextension~=3.6.0->ipywidgets>=7.3.0->qiskit[visualization]) (0.18.0)\n",
      "Requirement already satisfied: pywinpty>=1.1.0 in c:\\users\\lindb\\anaconda3\\lib\\site-packages (from terminado>=0.8.3->notebook>=4.4.1->widgetsnbextension~=3.6.0->ipywidgets>=7.3.0->qiskit[visualization]) (2.0.2)\n",
      "Requirement already satisfied: argon2-cffi-bindings in c:\\users\\lindb\\anaconda3\\lib\\site-packages (from argon2-cffi->notebook>=4.4.1->widgetsnbextension~=3.6.0->ipywidgets>=7.3.0->qiskit[visualization]) (21.2.0)\n",
      "Requirement already satisfied: soupsieve>1.2 in c:\\users\\lindb\\anaconda3\\lib\\site-packages (from beautifulsoup4->nbconvert>=5->notebook>=4.4.1->widgetsnbextension~=3.6.0->ipywidgets>=7.3.0->qiskit[visualization]) (2.3.1)\n",
      "Requirement already satisfied: webencodings in c:\\users\\lindb\\anaconda3\\lib\\site-packages (from bleach->nbconvert>=5->notebook>=4.4.1->widgetsnbextension~=3.6.0->ipywidgets>=7.3.0->qiskit[visualization]) (0.5.1)\n",
      "Requirement already satisfied: executing in c:\\users\\lindb\\anaconda3\\lib\\site-packages (from stack-data->ipython>=4.0.0->ipywidgets>=7.3.0->qiskit[visualization]) (0.8.3)\n",
      "Requirement already satisfied: pure-eval in c:\\users\\lindb\\anaconda3\\lib\\site-packages (from stack-data->ipython>=4.0.0->ipywidgets>=7.3.0->qiskit[visualization]) (0.2.2)\n",
      "Requirement already satisfied: asttokens in c:\\users\\lindb\\anaconda3\\lib\\site-packages (from stack-data->ipython>=4.0.0->ipywidgets>=7.3.0->qiskit[visualization]) (2.0.5)\n",
      "Building wheels for collected packages: pylatexenc, qiskit\n",
      "  Building wheel for pylatexenc (setup.py): started\n",
      "  Building wheel for pylatexenc (setup.py): finished with status 'done'\n",
      "  Created wheel for pylatexenc: filename=pylatexenc-2.10-py3-none-any.whl size=136836 sha256=5c32b49e3629bc165c32499b6d0a20ae4c26e921999994269bcaecac90b4d519\n",
      "  Stored in directory: c:\\users\\lindb\\appdata\\local\\pip\\cache\\wheels\\a3\\68\\66\\2f15abd0673d83c02f354115feedeb89c3daed2ac319b11090\n",
      "  Building wheel for qiskit (setup.py): started\n",
      "  Building wheel for qiskit (setup.py): finished with status 'done'\n",
      "  Created wheel for qiskit: filename=qiskit-0.37.0-py3-none-any.whl size=12028 sha256=fc7d3fc95b47dbc6b6fc4d1e83b2d077554c8692de2add3f094236e567dd25bc\n",
      "  Stored in directory: c:\\users\\lindb\\appdata\\local\\pip\\cache\\wheels\\47\\fc\\8d\\241f135a50c81f032d145992d45613db196ae7d97cbe52111a\n",
      "Successfully built pylatexenc qiskit\n",
      "Installing collected packages: pbr, mpmath, tweedledum, sympy, stevedore, scipy, retworkx, ply, ntlm-auth, dill, websockets, websocket-client, requests-ntlm, qiskit-terra, kiwisolver, fonttools, cycler, widgetsnbextension, qiskit-ibmq-provider, qiskit-aer, matplotlib, jupyterlab-widgets, seaborn, qiskit, pylatexenc, pydot, ipywidgets\n",
      "Successfully installed cycler-0.11.0 dill-0.3.5.1 fonttools-4.34.4 ipywidgets-7.7.1 jupyterlab-widgets-1.1.1 kiwisolver-1.4.3 matplotlib-3.5.2 mpmath-1.2.1 ntlm-auth-1.5.0 pbr-5.9.0 ply-3.11 pydot-1.4.2 pylatexenc-2.10 qiskit-0.37.0 qiskit-aer-0.10.4 qiskit-ibmq-provider-0.19.2 qiskit-terra-0.21.0 requests-ntlm-1.1.0 retworkx-0.11.0 scipy-1.8.1 seaborn-0.11.2 stevedore-4.0.0 sympy-1.10.1 tweedledum-1.1.1 websocket-client-1.3.3 websockets-10.3 widgetsnbextension-3.6.1\n"
     ]
    }
   ],
   "source": [
    "!pip install \"qiskit[visualization]\" --user"
   ]
  },
  {
   "cell_type": "markdown",
   "metadata": {},
   "source": [
    "__*Restart the kernel*__ (check \"Kernel\" menu) to apply the changes to the current notebook."
   ]
  },
  {
   "cell_type": "markdown",
   "metadata": {},
   "source": [
    "<hr id=\"tips\">\n",
    "\n",
    "### Tips\n",
    "\n",
    "_Any terminal/shell command can be executed in the notebook cells by putting an exclamation mark (!) at the beginning of the command._\n",
    "\n",
    "_$\\rightarrow$ To update Qiskit to the latest version, execute the following command in a code cell_\n",
    "\n",
    "    !pip install -U qiskit --user\n",
    "    \n",
    "_$\\rightarrow$ To uninstall Qiskit, execute the following command in a code cell_\n",
    "\n",
    "    !pip uninstall qiskit"
   ]
  },
  {
   "cell_type": "code",
   "execution_count": null,
   "metadata": {},
   "outputs": [],
   "source": [
    "#!pip install -U qiskit --user\n",
    "#!pip uninstall qiskit"
   ]
  },
  {
   "cell_type": "markdown",
   "metadata": {},
   "source": [
    "<hr id=\"test\">\n",
    "\n",
    "### Execute an example quantum program\n"
   ]
  },
  {
   "cell_type": "markdown",
   "metadata": {},
   "source": [
    "1) Create a quantum circuit"
   ]
  },
  {
   "cell_type": "code",
   "execution_count": 1,
   "metadata": {},
   "outputs": [
    {
     "name": "stdout",
     "output_type": "stream",
     "text": [
      "The execution of the cell was completed, and the circuit was created :)\n"
     ]
    }
   ],
   "source": [
    "# import the objects from qiskit\n",
    "from qiskit import QuantumRegister, ClassicalRegister, QuantumCircuit, execute, Aer\n",
    "from random import randrange\n",
    "\n",
    "# create a quantum circuit and its register objects\n",
    "qreg = QuantumRegister(2) # quantum register with two quantum bits\n",
    "creg = ClassicalRegister(2) # classical register with two classical bit\n",
    "circuit = QuantumCircuit(qreg,creg) # quantum circuit composed by a quantum register and a classical register\n",
    "\n",
    "# apply a Hadamard gate to the first qubit\n",
    "circuit.h(qreg[0])\n",
    "\n",
    "# set the second qubit to state |1>\n",
    "circuit.x(qreg[1])\n",
    "\n",
    "# apply CNOT(first_qubit,second_qubit)\n",
    "circuit.cx(qreg[0],qreg[1])\n",
    "\n",
    "# measure the both qubits\n",
    "circuit.measure(qreg,creg)\n",
    "\n",
    "print(\"The execution of the cell was completed, and the circuit was created :)\")"
   ]
  },
  {
   "cell_type": "markdown",
   "metadata": {},
   "source": [
    "2) Draw the circuit\n",
    "\n",
    "_Run the cell once more if the figure is not shown_"
   ]
  },
  {
   "cell_type": "code",
   "execution_count": 2,
   "metadata": {},
   "outputs": [
    {
     "data": {
      "image/png": "[encoded data removed]",
      "text/plain": [
       "<Figure size 340.233x204.68 with 1 Axes>"
      ]
     },
     "execution_count": 2,
     "metadata": {},
     "output_type": "execute_result"
    }
   ],
   "source": [
    "# draw circuit \n",
    "circuit.draw(output='mpl')\n",
    "\n",
    "# the output will be a \"matplotlib.Figure\" object"
   ]
  },
  {
   "cell_type": "markdown",
   "metadata": {},
   "source": [
    "3) Execute the circuit 1024 times in the local simulator and print the observed the outcomes"
   ]
  },
  {
   "cell_type": "code",
   "execution_count": 3,
   "metadata": {},
   "outputs": [
    {
     "name": "stdout",
     "output_type": "stream",
     "text": [
      "{'01': 506, '10': 518}\n"
     ]
    }
   ],
   "source": [
    "## execute the circuit 1024 times\n",
    "job = execute(circuit,Aer.get_backend('qasm_simulator'),shots=1024)\n",
    "# get the result\n",
    "counts = job.result().get_counts(circuit)\n",
    "print(counts)"
   ]
  },
  {
   "cell_type": "markdown",
   "metadata": {},
   "source": [
    "<hr id=\"complete\">\n",
    "\n",
    "### Complete test\n",
    "\n",
    "Here we put all methods and objects of Qiskit used througout this tutorial (see [Qiskit: Quick Reference](Q01_Qiskit_Reference.ipynb) for a complete list).\n",
    "\n",
    "By running the cell below, you should be able to test whether your Qiskit installation is ready for our tutorial.\n",
    "\n",
    "_It was tested with Qiskit 0.37.0 on July 10, 2022._"
   ]
  },
  {
   "cell_type": "code",
   "execution_count": 4,
   "metadata": {},
   "outputs": [
    {
     "data": {
      "text/html": [
       "<pre style=\"word-wrap: normal;white-space: pre;background: #fff0;line-height: 1.1;font-family: &quot;Courier New&quot;,Courier,monospace\">                 ┌───┐┌───────────────┐┌───┐ ░ ┌─┐            \n",
       "q_0: ────────────┤ X ├┤ U(2π/7,0,0,0) ├┤ X ├─░─┤M├────────────\n",
       "        ┌───┐    └─┬─┘└───────┬───────┘└─┬─┘ ░ └╥┘┌─┐         \n",
       "q_1: ───┤ H ├──────■──────────■──────────■───░──╫─┤M├─────────\n",
       "        ├───┤                            │   ░  ║ └╥┘┌─┐      \n",
       "q_2: ───┤ X ├────────────────────────────■───░──╫──╫─┤M├──────\n",
       "     ┌──┴───┴───┐                            ░  ║  ║ └╥┘┌─┐   \n",
       "q_3: ┤ Ry(2π/7) ├────────────────────────────░──╫──╫──╫─┤M├───\n",
       "     └──┬───┬───┘                            ░  ║  ║  ║ └╥┘┌─┐\n",
       "q_4: ───┤ Z ├────────────────────────────────░──╫──╫──╫──╫─┤M├\n",
       "        └───┘                                ░  ║  ║  ║  ║ └╥┘\n",
       "c: 5/═══════════════════════════════════════════╩══╩══╩══╩══╩═\n",
       "                                                3  1  4  0  2 </pre>"
      ],
      "text/plain": [
       "                 ┌───┐┌───────────────┐┌───┐ ░ ┌─┐            \n",
       "q_0: ────────────┤ X ├┤ U(2π/7,0,0,0) ├┤ X ├─░─┤M├────────────\n",
       "        ┌───┐    └─┬─┘└───────┬───────┘└─┬─┘ ░ └╥┘┌─┐         \n",
       "q_1: ───┤ H ├──────■──────────■──────────■───░──╫─┤M├─────────\n",
       "        ├───┤                            │   ░  ║ └╥┘┌─┐      \n",
       "q_2: ───┤ X ├────────────────────────────■───░──╫──╫─┤M├──────\n",
       "     ┌──┴───┴───┐                            ░  ║  ║ └╥┘┌─┐   \n",
       "q_3: ┤ Ry(2π/7) ├────────────────────────────░──╫──╫──╫─┤M├───\n",
       "     └──┬───┬───┘                            ░  ║  ║  ║ └╥┘┌─┐\n",
       "q_4: ───┤ Z ├────────────────────────────────░──╫──╫──╫──╫─┤M├\n",
       "        └───┘                                ░  ║  ║  ║  ║ └╥┘\n",
       "c: 5/═══════════════════════════════════════════╩══╩══╩══╩══╩═\n",
       "                                                3  1  4  0  2 "
      ]
     },
     "metadata": {},
     "output_type": "display_data"
    },
    {
     "data": {
      "image/png": "[encoded data removed]",
      "text/plain": [
       "<Figure size 1170.2x385.28 with 1 Axes>"
      ]
     },
     "metadata": {},
     "output_type": "display_data"
    },
    {
     "name": "stdout",
     "output_type": "stream",
     "text": [
      "measurement outcomes are: {'10011': 95, '11010': 68, '10001': 104, '11011': 17, '10010': 320, '10000': 396}\n",
      "\n",
      "unitary matrix is\n",
      "[[ 0.   +0.j  0.   +0.j  0.532+0.j  0.847-0.j]\n",
      " [ 0.847+0.j -0.532+0.j  0.   +0.j  0.   +0.j]\n",
      " [ 0.532+0.j  0.847-0.j  0.   +0.j  0.   +0.j]\n",
      " [ 0.   +0.j  0.   +0.j  0.847+0.j -0.532+0.j]]\n",
      "\n",
      "quantum state is\n",
      "0.0+0.0j\n",
      "0.847+0.0j\n",
      "0.532+0.0j\n",
      "0.0+0.0j\n",
      "\n",
      "All looks fine :-)\n"
     ]
    }
   ],
   "source": [
    "from qiskit import QuantumRegister, ClassicalRegister, QuantumCircuit, execute, Aer\n",
    "from math import pi\n",
    "\n",
    "# A quantum circuit is composed by a quantum and a classical register in Qiskit\n",
    "q = QuantumRegister(5,\"q\") # this quantum register has 5 qubits\n",
    "c = ClassicalRegister(5,\"c\") # this classical register has 5 classical bits\n",
    "\n",
    "qc = QuantumCircuit(q,c) # a quantum circuit with quantum and classical registers q and c\n",
    "\n",
    "qc.x(q[2]) # apply x-gate to the qubit \"q[2]\" of the quantum circuit \"qc\"\n",
    "qc.z(q[4]) # apply z-gate to the qubit \"q[4]\" of the quantum circuit \"qc\"\n",
    "qc.h(q[1]) # apply h-gate to the qubit \"q[1]\" of the quantum circuit \"qc\"\n",
    "\n",
    "a = pi/7\n",
    "qc.ry(2*a,q[3]) # apply ry-gate with the specified angle to the qubit \"q[3]\" of the quantum circuit \"qc\"\n",
    "\n",
    "qc.cx(q[1],q[0]) # apply cx-gate to the qubits \"q[1]\" and \"q[0]\" of the quantum circuit \"qc\"\n",
    "\n",
    "qc.cu(2*a,0,0,0,q[1],q[0]) # apply controlled rotation operator with the specified angle \n",
    "                          #  to the qubits \"q[1]\" and \"q[0]\" of the quantum circuit \"qc\"\n",
    "\n",
    "qc.ccx(q[2],q[1],q[0]) # apply ccx-gate to the qubits \"q[2]\", \"q[1]\", and \"q[0]\" of the quantum circuit \"qc\"\n",
    "\n",
    "qc.barrier()\n",
    "\n",
    "qc.measure(q[0],c[3]) # measure q[0] and write the output on c[3]\n",
    "qc.measure(q[1],c[1]) # measure q[1] and write the output on c[1]\n",
    "qc.measure(q[2],c[4]) # measure q[2] and write the output on c[4]\n",
    "qc.measure(q[3],c[0]) # measure q[3] and write the output on c[0]\n",
    "qc.measure(q[4],c[2]) # measure q[4] and write the output on c[2]\n",
    "\n",
    "display(qc.draw())\n",
    "\n",
    "qc.barrier()\n",
    "\n",
    "qc.h(q[0]).c_if(c,5)\n",
    "qc.x(q[0]).c_if(c,3)\n",
    "qc.z(q[0]).c_if(c,1)\n",
    "\n",
    "for i in range(5):\n",
    "    if i % 2 ==0: qc.h(q[i])\n",
    "    else: qc.x(q[i])\n",
    "        \n",
    "b = 3*pi/11\n",
    "qc.cu(2*b,0,0,0,q[1],q[0])\n",
    "\n",
    "display(qc.draw(output='mpl',reverse_bits=True))\n",
    "\n",
    "job = execute(qc,Aer.get_backend('qasm_simulator'),shots=1000)\n",
    "counts = job.result().get_counts(qc)   \n",
    "print(\"measurement outcomes are:\",counts)\n",
    "print()\n",
    "\n",
    "q = QuantumRegister(2,\"q\")\n",
    "c = ClassicalRegister(2,\"c\")\n",
    "\n",
    "qc = QuantumCircuit(q,c)\n",
    "\n",
    "qc.h(q[0])\n",
    "qc.ry(a,q[0])\n",
    "qc.x(q[1])\n",
    "qc.cx(q[0],q[1])\n",
    "\n",
    "job = execute(qc,Aer.get_backend('unitary_simulator'),shots=1,optimization_level=0)\n",
    "precision = 3\n",
    "current_unitary=job.result().get_unitary(qc,precision).data\n",
    "\n",
    "print(\"unitary matrix is\")\n",
    "print(current_unitary)\n",
    "print()\n",
    "\n",
    "job = execute(qc,Aer.get_backend('statevector_simulator'),optimization_level=0)\n",
    "precision = 3\n",
    "current_quantum_state=job.result().get_statevector(qc,precision).data\n",
    "print(\"quantum state is\")\n",
    "for val in current_quantum_state:\n",
    "    print(str(val.real)+\"+\"+str(val.imag)+\"j\")\n",
    "\n",
    "print()\n",
    "print(\"All looks fine :-)\")"
   ]
  },
  {
   "cell_type": "code",
   "execution_count": null,
   "metadata": {},
   "outputs": [],
   "source": []
  }
 ],
 "metadata": {
  "kernelspec": {
   "display_name": "Python 3 (ipykernel)",
   "language": "python",
   "name": "python3"
  },
  "language_info": {
   "codemirror_mode": {
    "name": "ipython",
    "version": 3
   },
   "file_extension": ".py",
   "mimetype": "text/x-python",
   "name": "python",
   "nbconvert_exporter": "python",
   "pygments_lexer": "ipython3",
   "version": "3.9.12"
  }
 },
 "nbformat": 4,
 "nbformat_minor": 2
}
