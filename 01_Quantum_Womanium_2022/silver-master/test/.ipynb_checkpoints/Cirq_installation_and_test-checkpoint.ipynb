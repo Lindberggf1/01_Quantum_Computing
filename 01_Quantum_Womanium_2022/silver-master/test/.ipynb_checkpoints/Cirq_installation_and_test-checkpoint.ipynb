{
 "cells": [
  {
   "cell_type": "markdown",
   "metadata": {},
   "source": [
    "<table  align=\"left\" width=\"100%\"> <tr>\n",
    "        <td  style=\"background-color:#ffffff;\"><a href=\"https://qsoftware.lu.lv/index.php/qworld/\" target=\"_blank\"><img src=\"../images/qworld.jpg\" width=\"35%\" align=\"left\"></a></td>\n",
    "        <td  align=\"right\" style=\"background-color:#ffffff;vertical-align:bottom;horizontal-align:right\">\n",
    "            prepared by Özlem Salehi (<a href=\"http://qworld.lu.lv/index.php/qturkey/\" target=\"_blank\">QTurkey</a>)\n",
    "        </td>        \n",
    "</tr></table>"
   ]
  },
  {
   "cell_type": "markdown",
   "metadata": {},
   "source": [
    "<table width=\"100%\"><tr><td style=\"color:#bbbbbb;background-color:#ffffff;font-size:11px;font-style:italic;text-align:right;\">This cell contains some macros. If there is a problem with displaying mathematical formulas, please run this cell to load these macros. </td></tr></table>\n",
    "$\\newcommand{\\Mod}[1]{\\ (\\mathrm{mod}\\ #1)}$\n",
    "$ \\newcommand{\\bra}[1]{\\langle #1|} $\n",
    "$ \\newcommand{\\ket}[1]{|#1\\rangle} $\n",
    "$ \\newcommand{\\braket}[2]{\\langle #1|#2\\rangle} $\n",
    "$ \\newcommand{\\dot}[2]{ #1 \\cdot #2} $\n",
    "$ \\newcommand{\\biginner}[2]{\\left\\langle #1,#2\\right\\rangle} $\n",
    "$ \\newcommand{\\mymatrix}[2]{\\left( \\begin{array}{#1} #2\\end{array} \\right)} $\n",
    "$ \\newcommand{\\myvector}[1]{\\mymatrix{c}{#1}} $\n",
    "$ \\newcommand{\\myrvector}[1]{\\mymatrix{r}{#1}} $\n",
    "$ \\newcommand{\\mypar}[1]{\\left( #1 \\right)} $\n",
    "$ \\newcommand{\\mybigpar}[1]{ \\Big( #1 \\Big)} $\n",
    "$ \\newcommand{\\sqrttwo}{\\frac{1}{\\sqrt{2}}} $\n",
    "$ \\newcommand{\\dsqrttwo}{\\dfrac{1}{\\sqrt{2}}} $\n",
    "$ \\newcommand{\\onehalf}{\\frac{1}{2}} $\n",
    "$ \\newcommand{\\donehalf}{\\dfrac{1}{2}} $\n",
    "$ \\newcommand{\\hadamard}{ \\mymatrix{rr}{ \\sqrttwo & \\sqrttwo \\\\ \\sqrttwo & -\\sqrttwo }} $\n",
    "$ \\newcommand{\\vzero}{\\myvector{1\\\\0}} $\n",
    "$ \\newcommand{\\vone}{\\myvector{0\\\\1}} $\n",
    "$ \\newcommand{\\stateplus}{\\myvector{ \\sqrttwo \\\\  \\sqrttwo } } $\n",
    "$ \\newcommand{\\stateminus}{ \\myrvector{ \\sqrttwo \\\\ -\\sqrttwo } } $\n",
    "$ \\newcommand{\\myarray}[2]{ \\begin{array}{#1}#2\\end{array}} $\n",
    "$ \\newcommand{\\X}{ \\mymatrix{cc}{0 & 1 \\\\ 1 & 0}  } $\n",
    "$ \\newcommand{\\Z}{ \\mymatrix{rr}{1 & 0 \\\\ 0 & -1}  } $\n",
    "$ \\newcommand{\\Htwo}{ \\mymatrix{rrrr}{ \\frac{1}{2} & \\frac{1}{2} & \\frac{1}{2} & \\frac{1}{2} \\\\ \\frac{1}{2} & -\\frac{1}{2} & \\frac{1}{2} & -\\frac{1}{2} \\\\ \\frac{1}{2} & \\frac{1}{2} & -\\frac{1}{2} & -\\frac{1}{2} \\\\ \\frac{1}{2} & -\\frac{1}{2} & -\\frac{1}{2} & \\frac{1}{2} } } $\n",
    "$ \\newcommand{\\CNOT}{ \\mymatrix{cccc}{1 & 0 & 0 & 0 \\\\ 0 & 1 & 0 & 0 \\\\ 0 & 0 & 0 & 1 \\\\ 0 & 0 & 1 & 0} } $\n",
    "$ \\newcommand{\\norm}[1]{ \\left\\lVert #1 \\right\\rVert } $\n",
    "$ \\newcommand{\\pstate}[1]{ \\lceil \\mspace{-1mu} #1 \\mspace{-1.5mu} \\rfloor } $"
   ]
  },
  {
   "cell_type": "markdown",
   "metadata": {},
   "source": [
    "# Cirq installation and test\n"
   ]
  },
  {
   "cell_type": "markdown",
   "metadata": {},
   "source": [
    "<hr id=\"install\">\n",
    "\n",
    "## Install Cirq\n"
   ]
  },
  {
   "cell_type": "markdown",
   "metadata": {},
   "source": [
    "Type\n",
    "\n",
    "    !pip install cirq\n",
    "    \n",
    "directly inside the cell of a Jupyter notebook.\n",
    "\n",
    "You may also visit the following links for further information.\n",
    "\n",
    "- https://pypi.org/project/cirq/\n",
    "\n",
    "- https://quantumai.google/cirq/install?hl=en"
   ]
  },
  {
   "cell_type": "markdown",
   "metadata": {},
   "source": [
    "__*Restart the kernel*__ (check \"Kernel\" menu) to apply the changes to the current notebook."
   ]
  },
  {
   "cell_type": "markdown",
   "metadata": {},
   "source": [
    "<hr id=\"check\">\n",
    "\n",
    "## Check Cirq installation\n",
    "\n"
   ]
  },
  {
   "cell_type": "code",
   "execution_count": 11,
   "metadata": {},
   "outputs": [
    {
     "name": "stdout",
     "output_type": "stream",
     "text": [
      "Requirement already satisfied: pip in c:\\users\\lindb\\anaconda3\\lib\\site-packages (22.2.2)\n"
     ]
    }
   ],
   "source": [
    "!pip install --upgrade pip"
   ]
  },
  {
   "cell_type": "code",
   "execution_count": 1,
   "metadata": {},
   "outputs": [
    {
     "name": "stdout",
     "output_type": "stream",
     "text": [
      "Requirement already satisfied: cirq in c:\\users\\lindb\\anaconda3\\lib\\site-packages (1.0.0)\n",
      "Requirement already satisfied: cirq-web==1.0.0 in c:\\users\\lindb\\anaconda3\\lib\\site-packages (from cirq) (1.0.0)\n",
      "Requirement already satisfied: cirq-rigetti==1.0.0 in c:\\users\\lindb\\anaconda3\\lib\\site-packages (from cirq) (1.0.0)\n",
      "Requirement already satisfied: cirq-ionq==1.0.0 in c:\\users\\lindb\\anaconda3\\lib\\site-packages (from cirq) (1.0.0)\n",
      "Requirement already satisfied: cirq-aqt==1.0.0 in c:\\users\\lindb\\anaconda3\\lib\\site-packages (from cirq) (1.0.0)\n",
      "Requirement already satisfied: cirq-google==1.0.0 in c:\\users\\lindb\\anaconda3\\lib\\site-packages (from cirq) (1.0.0)\n",
      "Requirement already satisfied: cirq-core==1.0.0 in c:\\users\\lindb\\anaconda3\\lib\\site-packages (from cirq) (1.0.0)\n",
      "Requirement already satisfied: cirq-pasqal==1.0.0 in c:\\users\\lindb\\anaconda3\\lib\\site-packages (from cirq) (1.0.0)\n",
      "Requirement already satisfied: requests~=2.18 in c:\\users\\lindb\\anaconda3\\lib\\site-packages (from cirq-aqt==1.0.0->cirq) (2.28.1)\n",
      "Requirement already satisfied: numpy~=1.16 in c:\\users\\lindb\\anaconda3\\lib\\site-packages (from cirq-core==1.0.0->cirq) (1.22.4)\n",
      "Requirement already satisfied: sympy in c:\\users\\lindb\\appdata\\roaming\\python\\python39\\site-packages (from cirq-core==1.0.0->cirq) (1.10.1)\n",
      "Requirement already satisfied: scipy in c:\\users\\lindb\\appdata\\roaming\\python\\python39\\site-packages (from cirq-core==1.0.0->cirq) (1.8.1)\n",
      "Requirement already satisfied: duet~=0.2.7 in c:\\users\\lindb\\anaconda3\\lib\\site-packages (from cirq-core==1.0.0->cirq) (0.2.7)\n",
      "Requirement already satisfied: sortedcontainers~=2.0 in c:\\users\\lindb\\anaconda3\\lib\\site-packages (from cirq-core==1.0.0->cirq) (2.4.0)\n",
      "Requirement already satisfied: matplotlib~=3.0 in c:\\users\\lindb\\appdata\\roaming\\python\\python39\\site-packages (from cirq-core==1.0.0->cirq) (3.5.2)\n",
      "Requirement already satisfied: pandas in c:\\users\\lindb\\anaconda3\\lib\\site-packages (from cirq-core==1.0.0->cirq) (1.4.3)\n",
      "Requirement already satisfied: tqdm in c:\\users\\lindb\\anaconda3\\lib\\site-packages (from cirq-core==1.0.0->cirq) (4.64.0)\n",
      "Requirement already satisfied: networkx~=2.4 in c:\\users\\lindb\\anaconda3\\lib\\site-packages (from cirq-core==1.0.0->cirq) (2.8.5)\n",
      "Requirement already satisfied: typing-extensions in c:\\users\\lindb\\anaconda3\\lib\\site-packages (from cirq-core==1.0.0->cirq) (4.3.0)\n",
      "Requirement already satisfied: proto-plus>=1.20.0 in c:\\users\\lindb\\anaconda3\\lib\\site-packages (from cirq-google==1.0.0->cirq) (1.20.6)\n",
      "Requirement already satisfied: google-api-core[grpc]<2.0.0dev,>=1.14.0 in c:\\users\\lindb\\anaconda3\\lib\\site-packages (from cirq-google==1.0.0->cirq) (1.32.0)\n",
      "Requirement already satisfied: protobuf<4,>=3.15.0 in c:\\users\\lindb\\anaconda3\\lib\\site-packages (from cirq-google==1.0.0->cirq) (3.20.1)\n",
      "Requirement already satisfied: pyquil>=3.0.0 in c:\\users\\lindb\\anaconda3\\lib\\site-packages (from cirq-rigetti==1.0.0->cirq) (3.2.1)\n",
      "Requirement already satisfied: google-auth<2.0dev,>=1.25.0 in c:\\users\\lindb\\anaconda3\\lib\\site-packages (from google-api-core[grpc]<2.0.0dev,>=1.14.0->cirq-google==1.0.0->cirq) (1.35.0)\n",
      "Requirement already satisfied: pytz in c:\\users\\lindb\\anaconda3\\lib\\site-packages (from google-api-core[grpc]<2.0.0dev,>=1.14.0->cirq-google==1.0.0->cirq) (2022.1)\n",
      "Requirement already satisfied: setuptools>=40.3.0 in c:\\users\\lindb\\anaconda3\\lib\\site-packages (from google-api-core[grpc]<2.0.0dev,>=1.14.0->cirq-google==1.0.0->cirq) (61.2.0)\n",
      "Requirement already satisfied: six>=1.13.0 in c:\\users\\lindb\\anaconda3\\lib\\site-packages (from google-api-core[grpc]<2.0.0dev,>=1.14.0->cirq-google==1.0.0->cirq) (1.16.0)\n",
      "Requirement already satisfied: googleapis-common-protos<2.0dev,>=1.6.0 in c:\\users\\lindb\\anaconda3\\lib\\site-packages (from google-api-core[grpc]<2.0.0dev,>=1.14.0->cirq-google==1.0.0->cirq) (1.56.4)\n",
      "Requirement already satisfied: packaging>=14.3 in c:\\users\\lindb\\anaconda3\\lib\\site-packages (from google-api-core[grpc]<2.0.0dev,>=1.14.0->cirq-google==1.0.0->cirq) (21.3)\n",
      "Requirement already satisfied: grpcio<2.0dev,>=1.29.0 in c:\\users\\lindb\\anaconda3\\lib\\site-packages (from google-api-core[grpc]<2.0.0dev,>=1.14.0->cirq-google==1.0.0->cirq) (1.47.0)\n",
      "Requirement already satisfied: pyparsing>=2.2.1 in c:\\users\\lindb\\anaconda3\\lib\\site-packages (from matplotlib~=3.0->cirq-core==1.0.0->cirq) (3.0.4)\n",
      "Requirement already satisfied: fonttools>=4.22.0 in c:\\users\\lindb\\appdata\\roaming\\python\\python39\\site-packages (from matplotlib~=3.0->cirq-core==1.0.0->cirq) (4.34.4)\n",
      "Requirement already satisfied: pillow>=6.2.0 in c:\\users\\lindb\\anaconda3\\lib\\site-packages (from matplotlib~=3.0->cirq-core==1.0.0->cirq) (9.2.0)\n",
      "Requirement already satisfied: cycler>=0.10 in c:\\users\\lindb\\appdata\\roaming\\python\\python39\\site-packages (from matplotlib~=3.0->cirq-core==1.0.0->cirq) (0.11.0)\n",
      "Requirement already satisfied: kiwisolver>=1.0.1 in c:\\users\\lindb\\appdata\\roaming\\python\\python39\\site-packages (from matplotlib~=3.0->cirq-core==1.0.0->cirq) (1.4.3)\n",
      "Requirement already satisfied: python-dateutil>=2.7 in c:\\users\\lindb\\anaconda3\\lib\\site-packages (from matplotlib~=3.0->cirq-core==1.0.0->cirq) (2.8.2)\n",
      "Requirement already satisfied: qcs-api-client<0.22.0,>=0.20.13 in c:\\users\\lindb\\anaconda3\\lib\\site-packages (from pyquil>=3.0.0->cirq-rigetti==1.0.0->cirq) (0.21.1)\n",
      "Requirement already satisfied: lark<0.12.0,>=0.11.1 in c:\\users\\lindb\\anaconda3\\lib\\site-packages (from pyquil>=3.0.0->cirq-rigetti==1.0.0->cirq) (0.11.3)\n",
      "Requirement already satisfied: retry<0.10.0,>=0.9.2 in c:\\users\\lindb\\anaconda3\\lib\\site-packages (from pyquil>=3.0.0->cirq-rigetti==1.0.0->cirq) (0.9.2)\n",
      "Requirement already satisfied: rpcq<4.0.0,>=3.10.0 in c:\\users\\lindb\\anaconda3\\lib\\site-packages (from pyquil>=3.0.0->cirq-rigetti==1.0.0->cirq) (3.10.0)\n",
      "Requirement already satisfied: charset-normalizer<3,>=2 in c:\\users\\lindb\\anaconda3\\lib\\site-packages (from requests~=2.18->cirq-aqt==1.0.0->cirq) (2.0.4)\n",
      "Requirement already satisfied: certifi>=2017.4.17 in c:\\users\\lindb\\anaconda3\\lib\\site-packages (from requests~=2.18->cirq-aqt==1.0.0->cirq) (2022.6.15)\n",
      "Requirement already satisfied: idna<4,>=2.5 in c:\\users\\lindb\\anaconda3\\lib\\site-packages (from requests~=2.18->cirq-aqt==1.0.0->cirq) (3.3)\n",
      "Requirement already satisfied: urllib3<1.27,>=1.21.1 in c:\\users\\lindb\\anaconda3\\lib\\site-packages (from requests~=2.18->cirq-aqt==1.0.0->cirq) (1.26.11)\n",
      "Requirement already satisfied: mpmath>=0.19 in c:\\users\\lindb\\appdata\\roaming\\python\\python39\\site-packages (from sympy->cirq-core==1.0.0->cirq) (1.2.1)\n",
      "Requirement already satisfied: colorama in c:\\users\\lindb\\anaconda3\\lib\\site-packages (from tqdm->cirq-core==1.0.0->cirq) (0.4.5)\n",
      "Requirement already satisfied: rsa<5,>=3.1.4 in c:\\users\\lindb\\anaconda3\\lib\\site-packages (from google-auth<2.0dev,>=1.25.0->google-api-core[grpc]<2.0.0dev,>=1.14.0->cirq-google==1.0.0->cirq) (4.9)\n",
      "Requirement already satisfied: cachetools<5.0,>=2.0.0 in c:\\users\\lindb\\anaconda3\\lib\\site-packages (from google-auth<2.0dev,>=1.25.0->google-api-core[grpc]<2.0.0dev,>=1.14.0->cirq-google==1.0.0->cirq) (4.2.4)\n",
      "Requirement already satisfied: pyasn1-modules>=0.2.1 in c:\\users\\lindb\\anaconda3\\lib\\site-packages (from google-auth<2.0dev,>=1.25.0->google-api-core[grpc]<2.0.0dev,>=1.14.0->cirq-google==1.0.0->cirq) (0.2.8)\n",
      "Requirement already satisfied: httpx<0.16.0,>=0.15.0 in c:\\users\\lindb\\anaconda3\\lib\\site-packages (from qcs-api-client<0.22.0,>=0.20.13->pyquil>=3.0.0->cirq-rigetti==1.0.0->cirq) (0.15.5)\n",
      "Requirement already satisfied: iso8601<2.0.0,>=1.0.2 in c:\\users\\lindb\\anaconda3\\lib\\site-packages (from qcs-api-client<0.22.0,>=0.20.13->pyquil>=3.0.0->cirq-rigetti==1.0.0->cirq) (1.0.2)\n",
      "Requirement already satisfied: retrying<2.0.0,>=1.3.3 in c:\\users\\lindb\\anaconda3\\lib\\site-packages (from qcs-api-client<0.22.0,>=0.20.13->pyquil>=3.0.0->cirq-rigetti==1.0.0->cirq) (1.3.3)\n",
      "Requirement already satisfied: toml<0.11.0,>=0.10.2 in c:\\users\\lindb\\anaconda3\\lib\\site-packages (from qcs-api-client<0.22.0,>=0.20.13->pyquil>=3.0.0->cirq-rigetti==1.0.0->cirq) (0.10.2)\n",
      "Requirement already satisfied: PyJWT<3.0.0,>=2.4.0 in c:\\users\\lindb\\anaconda3\\lib\\site-packages (from qcs-api-client<0.22.0,>=0.20.13->pyquil>=3.0.0->cirq-rigetti==1.0.0->cirq) (2.4.0)\n",
      "Requirement already satisfied: attrs<21.0.0,>=20.1.0 in c:\\users\\lindb\\anaconda3\\lib\\site-packages (from qcs-api-client<0.22.0,>=0.20.13->pyquil>=3.0.0->cirq-rigetti==1.0.0->cirq) (20.3.0)\n",
      "Requirement already satisfied: rfc3339<7.0,>=6.2 in c:\\users\\lindb\\anaconda3\\lib\\site-packages (from qcs-api-client<0.22.0,>=0.20.13->pyquil>=3.0.0->cirq-rigetti==1.0.0->cirq) (6.2)\n",
      "Requirement already satisfied: pydantic<2.0.0,>=1.7.2 in c:\\users\\lindb\\anaconda3\\lib\\site-packages (from qcs-api-client<0.22.0,>=0.20.13->pyquil>=3.0.0->cirq-rigetti==1.0.0->cirq) (1.9.1)\n",
      "Requirement already satisfied: decorator>=3.4.2 in c:\\users\\lindb\\anaconda3\\lib\\site-packages (from retry<0.10.0,>=0.9.2->pyquil>=3.0.0->cirq-rigetti==1.0.0->cirq) (5.1.1)\n",
      "Requirement already satisfied: py<2.0.0,>=1.4.26 in c:\\users\\lindb\\anaconda3\\lib\\site-packages (from retry<0.10.0,>=0.9.2->pyquil>=3.0.0->cirq-rigetti==1.0.0->cirq) (1.11.0)\n",
      "Requirement already satisfied: python-rapidjson in c:\\users\\lindb\\anaconda3\\lib\\site-packages (from rpcq<4.0.0,>=3.10.0->pyquil>=3.0.0->cirq-rigetti==1.0.0->cirq) (1.8)\n",
      "Requirement already satisfied: pyzmq>=17 in c:\\users\\lindb\\anaconda3\\lib\\site-packages (from rpcq<4.0.0,>=3.10.0->pyquil>=3.0.0->cirq-rigetti==1.0.0->cirq) (23.2.0)\n",
      "Requirement already satisfied: ruamel.yaml in c:\\users\\lindb\\anaconda3\\lib\\site-packages (from rpcq<4.0.0,>=3.10.0->pyquil>=3.0.0->cirq-rigetti==1.0.0->cirq) (0.17.21)\n",
      "Requirement already satisfied: msgpack<1.0,>=0.6 in c:\\users\\lindb\\anaconda3\\lib\\site-packages (from rpcq<4.0.0,>=3.10.0->pyquil>=3.0.0->cirq-rigetti==1.0.0->cirq) (0.6.2)\n",
      "Requirement already satisfied: sniffio in c:\\users\\lindb\\anaconda3\\lib\\site-packages (from httpx<0.16.0,>=0.15.0->qcs-api-client<0.22.0,>=0.20.13->pyquil>=3.0.0->cirq-rigetti==1.0.0->cirq) (1.2.0)\n",
      "Requirement already satisfied: rfc3986[idna2008]<2,>=1.3 in c:\\users\\lindb\\anaconda3\\lib\\site-packages (from httpx<0.16.0,>=0.15.0->qcs-api-client<0.22.0,>=0.20.13->pyquil>=3.0.0->cirq-rigetti==1.0.0->cirq) (1.5.0)\n",
      "Requirement already satisfied: httpcore==0.11.* in c:\\users\\lindb\\anaconda3\\lib\\site-packages (from httpx<0.16.0,>=0.15.0->qcs-api-client<0.22.0,>=0.20.13->pyquil>=3.0.0->cirq-rigetti==1.0.0->cirq) (0.11.1)\n",
      "Requirement already satisfied: h11<0.10,>=0.8 in c:\\users\\lindb\\anaconda3\\lib\\site-packages (from httpcore==0.11.*->httpx<0.16.0,>=0.15.0->qcs-api-client<0.22.0,>=0.20.13->pyquil>=3.0.0->cirq-rigetti==1.0.0->cirq) (0.9.0)\n",
      "Requirement already satisfied: pyasn1<0.5.0,>=0.4.6 in c:\\users\\lindb\\anaconda3\\lib\\site-packages (from pyasn1-modules>=0.2.1->google-auth<2.0dev,>=1.25.0->google-api-core[grpc]<2.0.0dev,>=1.14.0->cirq-google==1.0.0->cirq) (0.4.8)\n",
      "Requirement already satisfied: ruamel.yaml.clib>=0.2.6 in c:\\users\\lindb\\anaconda3\\lib\\site-packages (from ruamel.yaml->rpcq<4.0.0,>=3.10.0->pyquil>=3.0.0->cirq-rigetti==1.0.0->cirq) (0.2.6)\n"
     ]
    }
   ],
   "source": [
    "!pip install cirq"
   ]
  },
  {
   "cell_type": "code",
   "execution_count": 2,
   "metadata": {},
   "outputs": [
    {
     "name": "stdout",
     "output_type": "stream",
     "text": [
      "Requirement already satisfied: cirq-core[contrib] in c:\\users\\lindb\\anaconda3\\lib\\site-packages (1.0.0)\n",
      "Requirement already satisfied: matplotlib~=3.0 in c:\\users\\lindb\\appdata\\roaming\\python\\python39\\site-packages (from cirq-core[contrib]) (3.5.2)\n",
      "Requirement already satisfied: pandas in c:\\users\\lindb\\anaconda3\\lib\\site-packages (from cirq-core[contrib]) (1.4.3)\n",
      "Requirement already satisfied: numpy~=1.16 in c:\\users\\lindb\\anaconda3\\lib\\site-packages (from cirq-core[contrib]) (1.22.4)\n",
      "Requirement already satisfied: scipy in c:\\users\\lindb\\appdata\\roaming\\python\\python39\\site-packages (from cirq-core[contrib]) (1.8.1)\n",
      "Requirement already satisfied: sympy in c:\\users\\lindb\\appdata\\roaming\\python\\python39\\site-packages (from cirq-core[contrib]) (1.10.1)\n",
      "Requirement already satisfied: networkx~=2.4 in c:\\users\\lindb\\anaconda3\\lib\\site-packages (from cirq-core[contrib]) (2.8.5)\n",
      "Requirement already satisfied: typing-extensions in c:\\users\\lindb\\anaconda3\\lib\\site-packages (from cirq-core[contrib]) (4.3.0)\n",
      "Requirement already satisfied: tqdm in c:\\users\\lindb\\anaconda3\\lib\\site-packages (from cirq-core[contrib]) (4.64.0)\n",
      "Requirement already satisfied: duet~=0.2.7 in c:\\users\\lindb\\anaconda3\\lib\\site-packages (from cirq-core[contrib]) (0.2.7)\n",
      "Requirement already satisfied: sortedcontainers~=2.0 in c:\\users\\lindb\\anaconda3\\lib\\site-packages (from cirq-core[contrib]) (2.4.0)\n",
      "Requirement already satisfied: autoray in c:\\users\\lindb\\anaconda3\\lib\\site-packages (from cirq-core[contrib]) (0.3.2)\n",
      "Requirement already satisfied: opt-einsum in c:\\users\\lindb\\anaconda3\\lib\\site-packages (from cirq-core[contrib]) (3.3.0)\n",
      "Requirement already satisfied: quimb in c:\\users\\lindb\\anaconda3\\lib\\site-packages (from cirq-core[contrib]) (1.4.0)\n",
      "Requirement already satisfied: numba>=0.53.0 in c:\\users\\lindb\\anaconda3\\lib\\site-packages (from cirq-core[contrib]) (0.56.0)\n",
      "Requirement already satisfied: pylatex~=1.3.0 in c:\\users\\lindb\\anaconda3\\lib\\site-packages (from cirq-core[contrib]) (1.3.4)\n",
      "Requirement already satisfied: ply>=3.4 in c:\\users\\lindb\\appdata\\roaming\\python\\python39\\site-packages (from cirq-core[contrib]) (3.11)\n",
      "Requirement already satisfied: kiwisolver>=1.0.1 in c:\\users\\lindb\\appdata\\roaming\\python\\python39\\site-packages (from matplotlib~=3.0->cirq-core[contrib]) (1.4.3)\n",
      "Requirement already satisfied: python-dateutil>=2.7 in c:\\users\\lindb\\anaconda3\\lib\\site-packages (from matplotlib~=3.0->cirq-core[contrib]) (2.8.2)\n",
      "Requirement already satisfied: cycler>=0.10 in c:\\users\\lindb\\appdata\\roaming\\python\\python39\\site-packages (from matplotlib~=3.0->cirq-core[contrib]) (0.11.0)\n",
      "Requirement already satisfied: pyparsing>=2.2.1 in c:\\users\\lindb\\anaconda3\\lib\\site-packages (from matplotlib~=3.0->cirq-core[contrib]) (3.0.4)\n",
      "Requirement already satisfied: pillow>=6.2.0 in c:\\users\\lindb\\anaconda3\\lib\\site-packages (from matplotlib~=3.0->cirq-core[contrib]) (9.2.0)\n",
      "Requirement already satisfied: packaging>=20.0 in c:\\users\\lindb\\anaconda3\\lib\\site-packages (from matplotlib~=3.0->cirq-core[contrib]) (21.3)\n",
      "Requirement already satisfied: fonttools>=4.22.0 in c:\\users\\lindb\\appdata\\roaming\\python\\python39\\site-packages (from matplotlib~=3.0->cirq-core[contrib]) (4.34.4)\n",
      "Requirement already satisfied: setuptools in c:\\users\\lindb\\anaconda3\\lib\\site-packages (from numba>=0.53.0->cirq-core[contrib]) (61.2.0)\n",
      "Requirement already satisfied: llvmlite<0.40,>=0.39.0dev0 in c:\\users\\lindb\\anaconda3\\lib\\site-packages (from numba>=0.53.0->cirq-core[contrib]) (0.39.0)\n",
      "Requirement already satisfied: ordered-set in c:\\users\\lindb\\anaconda3\\lib\\site-packages (from pylatex~=1.3.0->cirq-core[contrib]) (4.1.0)\n",
      "Requirement already satisfied: pytz>=2020.1 in c:\\users\\lindb\\anaconda3\\lib\\site-packages (from pandas->cirq-core[contrib]) (2022.1)\n",
      "Requirement already satisfied: cytoolz>=0.8.0 in c:\\users\\lindb\\anaconda3\\lib\\site-packages (from quimb->cirq-core[contrib]) (0.12.0)\n",
      "Requirement already satisfied: psutil>=4.3.1 in c:\\users\\lindb\\anaconda3\\lib\\site-packages (from quimb->cirq-core[contrib]) (5.9.0)\n",
      "Requirement already satisfied: colorama in c:\\users\\lindb\\anaconda3\\lib\\site-packages (from tqdm->cirq-core[contrib]) (0.4.5)\n",
      "Requirement already satisfied: mpmath>=0.19 in c:\\users\\lindb\\appdata\\roaming\\python\\python39\\site-packages (from sympy->cirq-core[contrib]) (1.2.1)\n",
      "Requirement already satisfied: toolz>=0.8.0 in c:\\users\\lindb\\anaconda3\\lib\\site-packages (from cytoolz>=0.8.0->quimb->cirq-core[contrib]) (0.12.0)\n",
      "Requirement already satisfied: six>=1.5 in c:\\users\\lindb\\anaconda3\\lib\\site-packages (from python-dateutil>=2.7->matplotlib~=3.0->cirq-core[contrib]) (1.16.0)\n"
     ]
    }
   ],
   "source": [
    "!pip install cirq-core[contrib]"
   ]
  },
  {
   "cell_type": "markdown",
   "metadata": {},
   "source": [
    "##### Restart Kernel logo apos"
   ]
  },
  {
   "cell_type": "code",
   "execution_count": 3,
   "metadata": {},
   "outputs": [
    {
     "name": "stdout",
     "output_type": "stream",
     "text": [
      "                                             (0, 5)───(0, 6)\n",
      "                                             │        │\n",
      "                                             │        │\n",
      "                                    (1, 4)───(1, 5)───(1, 6)───(1, 7)\n",
      "                                    │        │        │        │\n",
      "                                    │        │        │        │\n",
      "                           (2, 3)───(2, 4)───(2, 5)───(2, 6)───(2, 7)───(2, 8)\n",
      "                           │        │        │        │        │        │\n",
      "                           │        │        │        │        │        │\n",
      "                  (3, 2)───(3, 3)───(3, 4)───(3, 5)───(3, 6)───(3, 7)───(3, 8)───(3, 9)\n",
      "                  │        │        │        │        │        │        │        │\n",
      "                  │        │        │        │        │        │        │        │\n",
      "         (4, 1)───(4, 2)───(4, 3)───(4, 4)───(4, 5)───(4, 6)───(4, 7)───(4, 8)───(4, 9)\n",
      "         │        │        │        │        │        │        │        │\n",
      "         │        │        │        │        │        │        │        │\n",
      "(5, 0)───(5, 1)───(5, 2)───(5, 3)───(5, 4)───(5, 5)───(5, 6)───(5, 7)───(5, 8)\n",
      "         │        │        │        │        │        │        │\n",
      "         │        │        │        │        │        │        │\n",
      "         (6, 1)───(6, 2)───(6, 3)───(6, 4)───(6, 5)───(6, 6)───(6, 7)\n",
      "                  │        │        │        │        │\n",
      "                  │        │        │        │        │\n",
      "                  (7, 2)───(7, 3)───(7, 4)───(7, 5)───(7, 6)\n",
      "                           │        │        │\n",
      "                           │        │        │\n",
      "                           (8, 3)───(8, 4)───(8, 5)\n",
      "                                    │\n",
      "                                    │\n",
      "                                    (9, 4)\n"
     ]
    }
   ],
   "source": [
    "import cirq_google; print(cirq_google.Sycamore)"
   ]
  },
  {
   "cell_type": "code",
   "execution_count": 1,
   "metadata": {},
   "outputs": [
    {
     "ename": "AttributeError",
     "evalue": "module 'cirq' has no attribute 'google'",
     "output_type": "error",
     "traceback": [
      "\u001b[1;31m---------------------------------------------------------------------------\u001b[0m",
      "\u001b[1;31mAttributeError\u001b[0m                            Traceback (most recent call last)",
      "Input \u001b[1;32mIn [1]\u001b[0m, in \u001b[0;36m<cell line: 4>\u001b[1;34m()\u001b[0m\n\u001b[0;32m      1\u001b[0m \u001b[38;5;28;01mimport\u001b[39;00m \u001b[38;5;21;01mcirq\u001b[39;00m\n\u001b[0;32m      2\u001b[0m \u001b[38;5;28;01mimport\u001b[39;00m \u001b[38;5;21;01mcirq_google\u001b[39;00m\n\u001b[1;32m----> 4\u001b[0m \u001b[38;5;28mprint\u001b[39m(\u001b[43mcirq\u001b[49m\u001b[38;5;241;43m.\u001b[39;49m\u001b[43mgoogle\u001b[49m\u001b[38;5;241m.\u001b[39mFoxtail)\n",
      "\u001b[1;31mAttributeError\u001b[0m: module 'cirq' has no attribute 'google'"
     ]
    }
   ],
   "source": [
    "import cirq\n",
    "import cirq_google\n",
    "\n",
    "print(cirq.google.Foxtail)\n",
    "# should print:\n",
    "# (0, 0)───(0, 1)───(0, 2)───(0, 3)───(0, 4)───(0, 5)───(0, 6)───(0, 7)───(0, 8)───(0, 9)───(0, 10)\n",
    "# │        │        │        │        │        │        │        │        │        │        │\n",
    "# │        │        │        │        │        │        │        │        │        │        │\n",
    "# (1, 0)───(1, 1)───(1, 2)───(1, 3)───(1, 4)───(1, 5)───(1, 6)───(1, 7)───(1, 8)───(1, 9)───(1, 10)"
   ]
  },
  {
   "cell_type": "markdown",
   "metadata": {},
   "source": [
    "<hr id=\"example\">\n",
    "\n",
    "## Execute An Example Program\n"
   ]
  },
  {
   "cell_type": "markdown",
   "metadata": {},
   "source": [
    "1) Create a quantum circuit"
   ]
  },
  {
   "cell_type": "code",
   "execution_count": 3,
   "metadata": {},
   "outputs": [],
   "source": [
    "import cirq\n",
    "\n",
    "# Pick a qubit.\n",
    "qubit = cirq.GridQubit(0, 0)\n",
    "\n",
    "# Create a circuit\n",
    "circuit = cirq.Circuit(\n",
    "    cirq.X(qubit)**0.5,  # Square root of NOT.\n",
    "    cirq.measure(qubit, key='m')  # Measurement.\n",
    ")"
   ]
  },
  {
   "cell_type": "markdown",
   "metadata": {},
   "source": [
    "2) Draw the circuit\n",
    "\n",
    "_Run the cell once more if the figure is not shown_"
   ]
  },
  {
   "cell_type": "code",
   "execution_count": 4,
   "metadata": {
    "scrolled": true
   },
   "outputs": [
    {
     "name": "stdout",
     "output_type": "stream",
     "text": [
      "Circuit:\n",
      "(0, 0): ───X^0.5───M('m')───\n"
     ]
    }
   ],
   "source": [
    "print(\"Circuit:\")\n",
    "print(circuit)"
   ]
  },
  {
   "cell_type": "markdown",
   "metadata": {},
   "source": [
    "3) Execute the circuit 20 times in the local simulator and print the observed the outcomes"
   ]
  },
  {
   "cell_type": "code",
   "execution_count": 5,
   "metadata": {
    "scrolled": true
   },
   "outputs": [
    {
     "name": "stdout",
     "output_type": "stream",
     "text": [
      "Results:\n",
      "m=01011100001111000101\n"
     ]
    }
   ],
   "source": [
    "# Simulate the circuit several times.\n",
    "simulator = cirq.Simulator()\n",
    "result = simulator.run(circuit, repetitions=20)\n",
    "print(\"Results:\")\n",
    "print(result)"
   ]
  },
  {
   "cell_type": "markdown",
   "metadata": {},
   "source": [
    "4) Print a histogram of results"
   ]
  },
  {
   "cell_type": "code",
   "execution_count": 6,
   "metadata": {},
   "outputs": [
    {
     "name": "stdout",
     "output_type": "stream",
     "text": [
      "Counter({0: 10, 1: 10})\n"
     ]
    }
   ],
   "source": [
    "# Print a histogram of results\n",
    "results = result.histogram(key='m')\n",
    "print(results)"
   ]
  },
  {
   "cell_type": "markdown",
   "metadata": {},
   "source": [
    "Reference: https://pypi.org/project/cirq/"
   ]
  }
 ],
 "metadata": {
  "kernelspec": {
   "display_name": "Python 3 (ipykernel)",
   "language": "python",
   "name": "python3"
  },
  "language_info": {
   "codemirror_mode": {
    "name": "ipython",
    "version": 3
   },
   "file_extension": ".py",
   "mimetype": "text/x-python",
   "name": "python",
   "nbconvert_exporter": "python",
   "pygments_lexer": "ipython3",
   "version": "3.9.12"
  }
 },
 "nbformat": 4,
 "nbformat_minor": 2
}
