{
 "cells": [
  {
   "cell_type": "markdown",
   "metadata": {},
   "source": [
    "<table align=\"left\"  width=\"100%\"> <tr>\n",
    "        <td  style=\"background-color:#ffffff;\">\n",
    "            <a href=\"http://qworld.lu.lv\" target=\"_blank\"><img src=\"../images/qworld.jpg\" width=\"35%\" align=\"left\"> </a></td>\n",
    "        <td style=\"background-color:#ffffff;vertical-align:bottom;text-align:right;\">\n",
    "            prepared by Maksim Dimitrijev (<a href=\"http://qworld.lu.lv/index.php/qlatvia/\" target=\"_blank\">QLatvia</a>)\n",
    "        </td>        \n",
    "</tr></table>"
   ]
  },
  {
   "cell_type": "markdown",
   "metadata": {},
   "source": [
    "<table width=\"100%\"><tr><td style=\"color:#bbbbbb;background-color:#ffffff;font-size:11px;font-style:italic;text-align:right;\">This cell contains some macros. If there is a problem with displaying mathematical formulas, please run this cell to load these macros. </td></tr></table>\n",
    "$ \\newcommand{\\bra}[1]{\\langle #1|} $\n",
    "$ \\newcommand{\\ket}[1]{|#1\\rangle} $\n",
    "$ \\newcommand{\\braket}[2]{\\langle #1|#2\\rangle} $\n",
    "$ \\newcommand{\\dot}[2]{ #1 \\cdot #2} $\n",
    "$ \\newcommand{\\biginner}[2]{\\left\\langle #1,#2\\right\\rangle} $\n",
    "$ \\newcommand{\\mymatrix}[2]{\\left( \\begin{array}{#1} #2\\end{array} \\right)} $\n",
    "$ \\newcommand{\\myvector}[1]{\\mymatrix{c}{#1}} $\n",
    "$ \\newcommand{\\myrvector}[1]{\\mymatrix{r}{#1}} $\n",
    "$ \\newcommand{\\mypar}[1]{\\left( #1 \\right)} $\n",
    "$ \\newcommand{\\mybigpar}[1]{ \\Big( #1 \\Big)} $\n",
    "$ \\newcommand{\\sqrttwo}{\\frac{1}{\\sqrt{2}}} $\n",
    "$ \\newcommand{\\dsqrttwo}{\\dfrac{1}{\\sqrt{2}}} $\n",
    "$ \\newcommand{\\onehalf}{\\frac{1}{2}} $\n",
    "$ \\newcommand{\\donehalf}{\\dfrac{1}{2}} $\n",
    "$ \\newcommand{\\hadamard}{ \\mymatrix{rr}{ \\sqrttwo & \\sqrttwo \\\\ \\sqrttwo & -\\sqrttwo }} $\n",
    "$ \\newcommand{\\vzero}{\\myvector{1\\\\0}} $\n",
    "$ \\newcommand{\\vone}{\\myvector{0\\\\1}} $\n",
    "$ \\newcommand{\\stateplus}{\\myvector{ \\sqrttwo \\\\  \\sqrttwo } } $\n",
    "$ \\newcommand{\\stateminus}{ \\myrvector{ \\sqrttwo \\\\ -\\sqrttwo } } $\n",
    "$ \\newcommand{\\myarray}[2]{ \\begin{array}{#1}#2\\end{array}} $\n",
    "$ \\newcommand{\\X}{ \\mymatrix{cc}{0 & 1 \\\\ 1 & 0}  } $\n",
    "$ \\newcommand{\\Z}{ \\mymatrix{rr}{1 & 0 \\\\ 0 & -1}  } $\n",
    "$ \\newcommand{\\Htwo}{ \\mymatrix{rrrr}{ \\frac{1}{2} & \\frac{1}{2} & \\frac{1}{2} & \\frac{1}{2} \\\\ \\frac{1}{2} & -\\frac{1}{2} & \\frac{1}{2} & -\\frac{1}{2} \\\\ \\frac{1}{2} & \\frac{1}{2} & -\\frac{1}{2} & -\\frac{1}{2} \\\\ \\frac{1}{2} & -\\frac{1}{2} & -\\frac{1}{2} & \\frac{1}{2} } } $\n",
    "$ \\newcommand{\\CNOT}{ \\mymatrix{cccc}{1 & 0 & 0 & 0 \\\\ 0 & 1 & 0 & 0 \\\\ 0 & 0 & 0 & 1 \\\\ 0 & 0 & 1 & 0} } $\n",
    "$ \\newcommand{\\norm}[1]{ \\left\\lVert #1 \\right\\rVert } $\n",
    "$ \\newcommand{\\pstate}[1]{ \\lceil \\mspace{-1mu} #1 \\mspace{-1.5mu} \\rfloor } $\n",
    "$ \\newcommand{\\Y}{ \\mymatrix{rr}{0 & -i \\\\ i & 0} } $ $ \\newcommand{\\S}{ \\mymatrix{rr}{1 & 0 \\\\ 0 & i} } $ \n",
    "$ \\newcommand{\\T}{ \\mymatrix{rr}{1 & 0 \\\\ 0 & e^{i \\frac{pi}{4}}} } $ \n",
    "$ \\newcommand{\\Sdg}{ \\mymatrix{rr}{1 & 0 \\\\ 0 & -i} } $ \n",
    "$ \\newcommand{\\Tdg}{ \\mymatrix{rr}{1 & 0 \\\\ 0 & e^{-i \\frac{pi}{4}}} } $\n"
   ]
  },
  {
   "cell_type": "markdown",
   "metadata": {},
   "source": [
    "<h1> <font color=\"blue\"> Solutions for </font> Quantum operators with complex numbers </h1>"
   ]
  },
  {
   "cell_type": "markdown",
   "metadata": {},
   "source": [
    "<a id=\"task1\"></a>\n",
    "<h3> Task 1 </h3>\n",
    "\n",
    "Verify that $Y^{\\dagger} = Y$ and that $YY = I$."
   ]
  },
  {
   "cell_type": "markdown",
   "metadata": {},
   "source": [
    "<h3> Solution </h3>"
   ]
  },
  {
   "cell_type": "markdown",
   "metadata": {},
   "source": [
    "$\\overline{i} = -i, \\overline{-i} = i$.\n",
    "\n",
    "$Y^{\\dagger} = \\Y.$\n",
    "\n",
    "$\\Y \\Y = \\mymatrix{cc}{0 \\cdot 0 + -i \\cdot i & 0 \\cdot -i + -i \\cdot 0 \\\\ i \\cdot 0 + 0 \\cdot i & i \\cdot -i + 0 \\cdot 0} = \\mymatrix{cc}{-i^2 & 0 \\\\ 0 & -i^2} = \\mymatrix{cc}{1 & 0 \\\\ 0 & 1}$."
   ]
  },
  {
   "cell_type": "markdown",
   "metadata": {},
   "source": [
    "<a id=\"task2\"></a>\n",
    "<h3> Task 2</h3>\n",
    "\n",
    "Randomly create a 2-dimensional quantum state, where both amplitudes are complex numbers (you can use your solution from previous notebook, Task 3). After that apply the mentioned operator to the generated state and verify that the resulting state is a valid quantum state.\n",
    "\n",
    "<b>Repeat several times:</b>\n",
    "<ul>\n",
    "    <li> Randomly pick a quantum state. </li>\n",
    "    <li> Apply the mentioned operator to the state. </li>\n",
    "    <li> Check whether the resulting quantum state is valid. </li>"
   ]
  },
  {
   "cell_type": "markdown",
   "metadata": {},
   "source": [
    "<h3> Solution </h3>"
   ]
  },
  {
   "cell_type": "code",
   "execution_count": 1,
   "metadata": {},
   "outputs": [],
   "source": [
    "# %load random_complex_quantum_state.py\n",
    "from random import randrange\n",
    "def random_complex_quantum_state():\n",
    "    # quantum state \n",
    "    quantum_state=[0,0]\n",
    "    length_square = 0\n",
    "    while length_square == 0:\n",
    "        first_entry_real = randrange(-100,101)\n",
    "        first_entry_imag = randrange(-100,101)\n",
    "        second_entry_real = randrange(-100,101)\n",
    "        second_entry_imag = randrange(-100,101)\n",
    "        length_square = first_entry_real**2+first_entry_imag**2+second_entry_real**2+second_entry_imag**2\n",
    "    first_entry_real = first_entry_real / length_square**0.5\n",
    "    first_entry_imag = first_entry_imag / length_square**0.5\n",
    "    second_entry_real = second_entry_real / length_square**0.5\n",
    "    second_entry_imag = second_entry_imag / length_square**0.5\n",
    "    quantum_state[0] = complex(first_entry_real, first_entry_imag)\n",
    "    quantum_state[1] = complex(second_entry_real, second_entry_imag)\n",
    "    return quantum_state"
   ]
  },
  {
   "cell_type": "code",
   "execution_count": 2,
   "metadata": {},
   "outputs": [
    {
     "name": "stdout",
     "output_type": "stream",
     "text": [
      "[(0.480262429365617-0.07326037058119582j), (0.4639823470142402+0.7407437469876467j)]\n",
      "summation of entry squares is 0.9999999999999998\n",
      "Is it valid? True\n",
      "[(-0.3128323475440206-0.26814201218058914j), (-0.648009862769757+0.6405614735425185j)]\n",
      "summation of entry squares is 1.0\n",
      "Is it valid? True\n",
      "[(0.029559878344928795+0.6207574452435047j), (-0.7784101297497916+0.08867963503478639j)]\n",
      "summation of entry squares is 1.0\n",
      "Is it valid? True\n",
      "[(0.6938602119564549-0.15509816502556048j), (-0.6938602119564549-0.11428285843988668j)]\n",
      "summation of entry squares is 1.0\n",
      "Is it valid? True\n",
      "[(-0.8956711338203216+0.060518319852724434j), (0.2662806073519875-0.3510062551458017j)]\n",
      "summation of entry squares is 1.0000000000000002\n",
      "Is it valid? True\n",
      "[(-0.5344625564202291-0.5109696967973619j), (0.4581107626459107-0.49335005208021154j)]\n",
      "summation of entry squares is 1.0\n",
      "Is it valid? True\n",
      "[(-0.5182733080265879-0.6910310773687838j), (0.479882692617211-0.1535624616375075j)]\n",
      "summation of entry squares is 1.0\n",
      "Is it valid? True\n",
      "[(-0.009328293270628191-0.6436522356733452j), (-0.531712716425807+0.5503693029670633j)]\n",
      "summation of entry squares is 1.0\n",
      "Is it valid? True\n",
      "[(0.23572499731356375-0.1375062484329122j), (0.44198436996293206+0.8545031152616687j)]\n",
      "summation of entry squares is 1.0\n",
      "Is it valid? True\n",
      "[(0.3101531155881252+0.4135374874508336j), (0.6823368542938755-0.516921859313542j)]\n",
      "summation of entry squares is 1.0\n",
      "Is it valid? True\n"
     ]
    }
   ],
   "source": [
    "# %load is_quantum_state.py\n",
    "# testing whether a given quantum state is valid\n",
    "def is_quantum_state(quantum_state):\n",
    "    length_square = 0\n",
    "    for i in range(len(quantum_state)):\n",
    "        length_square += abs(quantum_state[i])**2\n",
    "    print(\"summation of entry squares is\",length_square)\n",
    "    # there might be precision problem\n",
    "    # the length may be very close to 1 but not exactly 1\n",
    "    # so we use the following trick\n",
    "    if (length_square - 1)**2 < 0.00000001: return True \n",
    "    return False\n",
    "for i in range(10):\n",
    "    new_state = random_complex_quantum_state()\n",
    "    print(new_state)\n",
    "    print(\"Is it valid?\",is_quantum_state(new_state))\n"
   ]
  },
  {
   "cell_type": "code",
   "execution_count": 3,
   "metadata": {},
   "outputs": [
    {
     "name": "stdout",
     "output_type": "stream",
     "text": [
      "[(-0.589063929607112+0.2798053665633782j), (0.6626969208080009-0.368164956004445j)]\n",
      "summation of entry squares is 0.9999999999999998\n",
      "Is it valid? True\n",
      "[(-0.5837814753379857+0.3630836005150887j), (0.5766621890533762-0.4413957496457941j)]\n",
      "summation of entry squares is 1.0\n",
      "Is it valid? True\n",
      "[(-0.16099636867841477-0.18399584991818832j), (-0.084331431212503+0.9659782120704887j)]\n",
      "summation of entry squares is 0.9999999999999998\n",
      "Is it valid? True\n",
      "[(-0.6351445163524301-0.06302960849298925j), (0.33454176815509673-0.6933256934228818j)]\n",
      "summation of entry squares is 1.0\n",
      "Is it valid? True\n",
      "[(0.3047845743896501-0.1676315159143075j), (0.6552868349377478-0.6705260636572302j)]\n",
      "summation of entry squares is 1.0\n",
      "Is it valid? True\n",
      "[(0.4072069467426151+0.10060406919523433j), (-0.19641746842879076+0.8862739429103974j)]\n",
      "summation of entry squares is 0.9999999999999998\n",
      "Is it valid? True\n",
      "[(-0.26945525894701006-0.6754837313329155j), (0.6533367237482298+0.21039657205451465j)]\n",
      "summation of entry squares is 0.9999999999999999\n",
      "Is it valid? True\n",
      "[(-0.027917717090533672-0.1842569327975223j), (-0.9436188376600381+0.27359362748722993j)]\n",
      "summation of entry squares is 1.0\n",
      "Is it valid? True\n",
      "[(0.11158084655996553+0.15807286595995113j), (0.9484371957597066+0.2510569047599223j)]\n",
      "summation of entry squares is 1.0\n",
      "Is it valid? True\n",
      "[(-0.218958747209216-0.6998093293157293j), (-0.5624234487138684-0.3821044804239258j)]\n",
      "summation of entry squares is 0.9999999999999999\n",
      "Is it valid? True\n"
     ]
    }
   ],
   "source": [
    "for i in range(10):\n",
    "    initial_state = random_complex_quantum_state()\n",
    "    new_state = [0,0]\n",
    "    new_state[0] = initial_state[0] * complex(1/2,1/2) + initial_state[1] * complex(1/2,-1/2)\n",
    "    new_state[1] = initial_state[0] * complex(1/2,-1/2) + initial_state[1] * complex(1/2,1/2)\n",
    "    print(new_state)\n",
    "    print(\"Is it valid?\",is_quantum_state(new_state))"
   ]
  },
  {
   "cell_type": "markdown",
   "metadata": {},
   "source": [
    "<a id=\"task3\"></a>\n",
    "<h3> Task 3</h3>\n",
    "\n",
    "Repeat Task 2, but with Hadamard operator. Note that you should load the necessary functions if you did not complete Task 2."
   ]
  },
  {
   "cell_type": "markdown",
   "metadata": {},
   "source": [
    "<h3> Solution </h3>"
   ]
  },
  {
   "cell_type": "code",
   "execution_count": 4,
   "metadata": {},
   "outputs": [
    {
     "name": "stdout",
     "output_type": "stream",
     "text": [
      "[(0.14385328054043+0.27172286324303446j), (0.5700852228824449+0.7618895969363517j)]\n",
      "summation of entry squares is 0.9999999999999998\n",
      "Is it valid? True\n",
      "[(-0.7496614345735864+0.6191024206871751j), (-0.09265478404842081-0.21479063574861176j)]\n",
      "summation of entry squares is 0.9999999999999998\n",
      "Is it valid? True\n",
      "[(-0.33154800909588716+0.825742211333153j), (-0.21894679845954815-0.40035986004031665j)]\n",
      "summation of entry squares is 0.9999999999999999\n",
      "Is it valid? True\n",
      "[(0.3014365674175169+0.8072369093553844j), (-0.5058003419378674+0.04087275490407011j)]\n",
      "summation of entry squares is 1.0\n",
      "Is it valid? True\n",
      "[(0.2297015817895922+0.6591436694831776j), (0.5492863912359813-0.4594031635791844j)]\n",
      "summation of entry squares is 0.9999999999999996\n",
      "Is it valid? True\n",
      "[(-0.00482130711783646-0.795515674443011j), (-0.6026633897295538+0.06267699253187359j)]\n",
      "summation of entry squares is 0.9999999999999998\n",
      "Is it valid? True\n",
      "[(-0.4993808777365326-0.673078574340544j), (0.36910760528352415-0.40167592339677627j)]\n",
      "summation of entry squares is 0.9999999999999997\n",
      "Is it valid? True\n",
      "[(0.21981792678818507+0.05346922543496385j), (0.1841717764982091+0.9565050327810214j)]\n",
      "summation of entry squares is 0.9999999999999999\n",
      "Is it valid? True\n",
      "[(0.26700475710760097-0.01668779731922504j), (0.2113787660435174+0.9400792489830117j)]\n",
      "summation of entry squares is 0.9999999999999997\n",
      "Is it valid? True\n",
      "[(0.10691459543273885-0.4616766620959176j), (-0.8358777461105036-0.2770059972575506j)]\n",
      "summation of entry squares is 0.9999999999999999\n",
      "Is it valid? True\n"
     ]
    }
   ],
   "source": [
    "for i in range(10):\n",
    "    initial_state = random_complex_quantum_state()\n",
    "    new_state = [0,0]\n",
    "    new_state[0] = initial_state[0] * (1/(2**0.5)) + initial_state[1] * (1/(2**0.5))\n",
    "    new_state[1] = initial_state[0] * (1/(2**0.5)) + initial_state[1] * (-1/(2**0.5))\n",
    "    print(new_state)\n",
    "    print(\"Is it valid?\",is_quantum_state(new_state))"
   ]
  },
  {
   "cell_type": "markdown",
   "metadata": {},
   "source": [
    "<a id=\"task4\"></a>\n",
    "<h3> Task 4</h3>\n",
    "\n",
    "Repeat Task 2 with the following quantum operators. Note that you should load the necessary functions if you did not complete Task 2.\n",
    "\n",
    "$$\n",
    "\\S \\mbox{ and } \\T.\n",
    "$$"
   ]
  },
  {
   "cell_type": "markdown",
   "metadata": {},
   "source": [
    "<h3> Solution </h3>"
   ]
  },
  {
   "cell_type": "code",
   "execution_count": 5,
   "metadata": {},
   "outputs": [
    {
     "name": "stdout",
     "output_type": "stream",
     "text": [
      "First operator:\n",
      "[(-0.1506195176869527-0.8151173898352735j), (0.4872984395754352-0.2746591204879726j)]\n",
      "summation of entry squares is 1.0000000000000002\n",
      "Is it valid? True\n",
      "[(0.4844935869549066-0.1577420980783417j), (0.6084338068736036-0.6084338068736036j)]\n",
      "summation of entry squares is 1.0\n",
      "Is it valid? True\n",
      "[(-0.5438806403785346+0.055176296849996254j), (0.3231754529785495-0.7724681558999476j)]\n",
      "summation of entry squares is 1.0\n",
      "Is it valid? True\n",
      "[(-0.41346371835662604+0.4736038955721353j), (-0.3833936297488714-0.676576993674479j)]\n",
      "summation of entry squares is 1.0\n",
      "Is it valid? True\n",
      "[(0.62602246887827+0.35057258257183116j), (-0.48412404259919545-0.5008179751026159j)]\n",
      "summation of entry squares is 1.0\n",
      "Is it valid? True\n",
      "[(0.7347580224923771-0.28655562877202706j), (0.1542991847233992-0.5951539982188255j)]\n",
      "summation of entry squares is 0.9999999999999998\n",
      "Is it valid? True\n",
      "[(0.7319885320156007-0.3227046216412863j), (-0.5981841767009209-0.04722506658165166j)]\n",
      "summation of entry squares is 1.0\n",
      "Is it valid? True\n",
      "[(-0.5410494969047234+0.37504567399077415j), (0.5533460763798308+0.510308048216955j)]\n",
      "summation of entry squares is 0.9999999999999999\n",
      "Is it valid? True\n",
      "[(0.2388136826637436-0.5419233568138797j), (0.5511084984547929-0.5878490650184458j)]\n",
      "summation of entry squares is 1.0000000000000002\n",
      "Is it valid? True\n",
      "[(-0.36876437528159134+0.553146562922387j), (0.6255824223526996+0.40827484406176184j)]\n",
      "summation of entry squares is 1.0\n",
      "Is it valid? True\n",
      "Second operator:\n",
      "[(-0.6117347992898006+0.2081159626449837j), (-0.7625574438352498-0.031215801794425457j)]\n",
      "summation of entry squares is 1.0\n",
      "Is it valid? True\n",
      "[(0.3164200936215781-0.6328401872431562j), (-0.6991962309484379-0.10254878053910421j)]\n",
      "summation of entry squares is 0.9999999999999998\n",
      "Is it valid? True\n",
      "[(-0.142577354718654+0.47763413830749085j), (0.13106263867476003+0.8569480221042003j)]\n",
      "summation of entry squares is 0.9999999999999998\n",
      "Is it valid? True\n",
      "[(-0.6231406544513608-0.5483637759171975j), (-0.2511573799654808+0.4979084901070058j)]\n",
      "summation of entry squares is 0.9999999999999999\n",
      "Is it valid? True\n",
      "[(-0.3859876596375902+0.5914327042834043j), (0.695542736617456+0.1320650765729347j)]\n",
      "summation of entry squares is 0.9999999999999999\n",
      "Is it valid? True\n",
      "[(0.46749588388881025+0.04921009304092739j), (-0.8757192273835273-0.1101898365581922j)]\n",
      "summation of entry squares is 0.9999999999999997\n",
      "Is it valid? True\n",
      "[(-0.03965864217280745-0.6279285010694513j), (0.04673815802173831-0.7758534231608547j)]\n",
      "summation of entry squares is 1.0\n",
      "Is it valid? True\n",
      "[(-0.5757257335572173+0.4844521416518049j), (-0.10425720702853736+0.6503663867018283j)]\n",
      "summation of entry squares is 0.9999999999999997\n",
      "Is it valid? True\n",
      "[(-0.2807731908782205-0.8122367307548521j), (0.28362375320767796+0.42543562981151695j)]\n",
      "summation of entry squares is 0.9999999999999997\n",
      "Is it valid? True\n",
      "[(0.5299196665693953-0.5138614948551712j), (-0.07948389478810108+0.6699356846425661j)]\n",
      "summation of entry squares is 1.0\n",
      "Is it valid? True\n"
     ]
    }
   ],
   "source": [
    "print('First operator:')\n",
    "for i in range(10):\n",
    "    initial_state = random_complex_quantum_state()\n",
    "    new_state = [0,0]\n",
    "    new_state[0] = initial_state[0] * 1 + initial_state[1] * 0\n",
    "    new_state[1] = initial_state[0] * 0 + initial_state[1] * complex(0,1)\n",
    "    print(new_state)\n",
    "    print(\"Is it valid?\",is_quantum_state(new_state))\n",
    "    \n",
    "# e^(i*pi/4) = 1/sqrt(2) * (1+i)\n",
    "print('Second operator:')\n",
    "for i in range(10):\n",
    "    initial_state = random_complex_quantum_state()\n",
    "    new_state = [0,0]\n",
    "    new_state[0] = initial_state[0] * 1 + initial_state[1] * 0\n",
    "    new_state[1] = initial_state[0] * 0 + initial_state[1] * complex(1/(2**0.5),1/(2**0.5))\n",
    "    print(new_state)\n",
    "    print(\"Is it valid?\",is_quantum_state(new_state))"
   ]
  }
 ],
 "metadata": {
  "kernelspec": {
   "display_name": "Python 3 (ipykernel)",
   "language": "python",
   "name": "python3"
  },
  "language_info": {
   "codemirror_mode": {
    "name": "ipython",
    "version": 3
   },
   "file_extension": ".py",
   "mimetype": "text/x-python",
   "name": "python",
   "nbconvert_exporter": "python",
   "pygments_lexer": "ipython3",
   "version": "3.9.12"
  }
 },
 "nbformat": 4,
 "nbformat_minor": 2
}
